{
 "cells": [
  {
   "cell_type": "code",
   "execution_count": 48,
   "metadata": {},
   "outputs": [
    {
     "ename": "ImportError",
     "evalue": "dlopen(/Users/mauerhof/Documents/RamsesFiles/minirats/utils/py/cellutils.cpython-37m-darwin.so, 2): Symbol not found: ___ramses_info_MOD_read_info_restart\n  Referenced from: /Users/mauerhof/Documents/RamsesFiles/minirats/utils/py/cellutils.cpython-37m-darwin.so\n  Expected in: flat namespace\n in /Users/mauerhof/Documents/RamsesFiles/minirats/utils/py/cellutils.cpython-37m-darwin.so",
     "output_type": "error",
     "traceback": [
      "\u001b[0;31m---------------------------------------------------------------------------\u001b[0m",
      "\u001b[0;31mImportError\u001b[0m                               Traceback (most recent call last)",
      "\u001b[0;32m<ipython-input-48-c753a0c7c987>\u001b[0m in \u001b[0;36m<module>\u001b[0;34m\u001b[0m\n\u001b[1;32m      2\u001b[0m \u001b[0;32mfrom\u001b[0m \u001b[0mastro\u001b[0m \u001b[0;32mimport\u001b[0m \u001b[0mconstants\u001b[0m \u001b[0;32mas\u001b[0m \u001b[0mc\u001b[0m\u001b[0;34m\u001b[0m\u001b[0;34m\u001b[0m\u001b[0m\n\u001b[1;32m      3\u001b[0m \u001b[0;32mimport\u001b[0m \u001b[0mnumpy\u001b[0m \u001b[0;32mas\u001b[0m \u001b[0mnp\u001b[0m\u001b[0;34m\u001b[0m\u001b[0;34m\u001b[0m\u001b[0m\n\u001b[0;32m----> 4\u001b[0;31m \u001b[0;32mfrom\u001b[0m \u001b[0mminirats\u001b[0m\u001b[0;34m.\u001b[0m\u001b[0mHaloFinder\u001b[0m\u001b[0;34m.\u001b[0m\u001b[0mpy\u001b[0m\u001b[0;34m.\u001b[0m\u001b[0mhaloCatalog\u001b[0m \u001b[0;32mimport\u001b[0m \u001b[0mhaloCatalog\u001b[0m \u001b[0;32mas\u001b[0m \u001b[0mhC\u001b[0m\u001b[0;34m\u001b[0m\u001b[0;34m\u001b[0m\u001b[0m\n\u001b[0m",
      "\u001b[0;32m~/Documents/RamsesFiles/minirats/HaloFinder/py/haloCatalog.py\u001b[0m in \u001b[0;36m<module>\u001b[0;34m\u001b[0m\n\u001b[1;32m     18\u001b[0m \u001b[0;32mfrom\u001b[0m \u001b[0mminirats\u001b[0m\u001b[0;34m.\u001b[0m\u001b[0mutils\u001b[0m\u001b[0;34m.\u001b[0m\u001b[0mpy\u001b[0m\u001b[0;34m.\u001b[0m\u001b[0mhalotils\u001b[0m \u001b[0;32mimport\u001b[0m \u001b[0mpy_halo_utils\u001b[0m \u001b[0;32mas\u001b[0m \u001b[0mhutils\u001b[0m\u001b[0;34m\u001b[0m\u001b[0;34m\u001b[0m\u001b[0m\n\u001b[1;32m     19\u001b[0m \u001b[0;32mimport\u001b[0m \u001b[0mminirats\u001b[0m\u001b[0;34m.\u001b[0m\u001b[0mutils\u001b[0m\u001b[0;34m.\u001b[0m\u001b[0mpy\u001b[0m\u001b[0;34m.\u001b[0m\u001b[0mf90utils\u001b[0m \u001b[0;32mas\u001b[0m \u001b[0mf90\u001b[0m\u001b[0;34m\u001b[0m\u001b[0;34m\u001b[0m\u001b[0m\n\u001b[0;32m---> 20\u001b[0;31m \u001b[0;32mimport\u001b[0m \u001b[0mminirats\u001b[0m\u001b[0;34m.\u001b[0m\u001b[0mutils\u001b[0m\u001b[0;34m.\u001b[0m\u001b[0mpy\u001b[0m\u001b[0;34m.\u001b[0m\u001b[0mcellutils\u001b[0m \u001b[0;32mas\u001b[0m \u001b[0mcellutils\u001b[0m\u001b[0;34m\u001b[0m\u001b[0;34m\u001b[0m\u001b[0m\n\u001b[0m\u001b[1;32m     21\u001b[0m \u001b[0;32mfrom\u001b[0m \u001b[0mminirats\u001b[0m\u001b[0;34m.\u001b[0m\u001b[0mutils\u001b[0m\u001b[0;34m.\u001b[0m\u001b[0mpy\u001b[0m\u001b[0;34m.\u001b[0m\u001b[0mreadwrite\u001b[0m \u001b[0;32mimport\u001b[0m \u001b[0mramses_info\u001b[0m\u001b[0;34m\u001b[0m\u001b[0;34m\u001b[0m\u001b[0m\n\u001b[1;32m     22\u001b[0m \u001b[0;32mimport\u001b[0m \u001b[0mminirats\u001b[0m\u001b[0;34m.\u001b[0m\u001b[0mutils\u001b[0m\u001b[0;34m.\u001b[0m\u001b[0mpy\u001b[0m\u001b[0;34m.\u001b[0m\u001b[0mutilities_cosmology\u001b[0m \u001b[0;32mas\u001b[0m \u001b[0muc\u001b[0m\u001b[0;34m\u001b[0m\u001b[0;34m\u001b[0m\u001b[0m\n",
      "\u001b[0;31mImportError\u001b[0m: dlopen(/Users/mauerhof/Documents/RamsesFiles/minirats/utils/py/cellutils.cpython-37m-darwin.so, 2): Symbol not found: ___ramses_info_MOD_read_info_restart\n  Referenced from: /Users/mauerhof/Documents/RamsesFiles/minirats/utils/py/cellutils.cpython-37m-darwin.so\n  Expected in: flat namespace\n in /Users/mauerhof/Documents/RamsesFiles/minirats/utils/py/cellutils.cpython-37m-darwin.so"
     ]
    }
   ],
   "source": [
    "import os\n",
    "from astro import constants as c\n",
    "import numpy as np\n",
    "from minirats.HaloFinder.py.haloCatalog import haloCatalog as hC"
   ]
  },
  {
   "cell_type": "markdown",
   "metadata": {},
   "source": [
    "## Creates repositories, including domdump"
   ]
  },
  {
   "cell_type": "code",
   "execution_count": 35,
   "metadata": {},
   "outputs": [],
   "source": [
    "# repo = '/cral/mauerhofer/RascasFiles/'\n",
    "output_rascas = '/Users/mauerhof/Documents/SiMapProject/Utils/tests/'\n",
    "simu = 'simu_jeremy'\n",
    "timesteps = range(107,165)\n",
    "ion  = 'CII'"
   ]
  },
  {
   "cell_type": "code",
   "execution_count": 33,
   "metadata": {},
   "outputs": [],
   "source": [
    "if not os.path.exists('%s/%s'%(output_rascas,simu)):\n",
    "    os.makedirs('%s/%s'%(output_rascas,simu))\n",
    "    \n",
    "for i in timesteps:\n",
    "    if not os.path.exists('%s/%s/%05d/%s'%(output_rascas,simu,i,ion)):\n",
    "        os.makedirs('%s/%s/%05d/%s'%(output_rascas,simu,i,ion))\n",
    "        os.makedirs('%s/%s/%05d/%s/domdump/'%(output_rascas,simu,i,ion))"
   ]
  },
  {
   "cell_type": "markdown",
   "metadata": {},
   "source": [
    "## Create fiducial parameter file"
   ]
  },
  {
   "cell_type": "code",
   "execution_count": 47,
   "metadata": {},
   "outputs": [],
   "source": [
    "################Parameters#########################\n",
    "output_rascas = '/Users/mauerhof/Documents/SiMapProject/Utils/tests/'\n",
    "simu = 'simu_jeremy'\n",
    "timesteps = [107] #range(107,165)\n",
    "ion  = 'CII'\n",
    "spectrum_rep_name = 'spectra'\n",
    "IC_photons_name   = 'IC_photons.ic'\n",
    "output_name   = 'output.out'\n",
    "###################################################\n",
    "\n",
    "for i in timesteps:\n",
    "    repo = '%s/%s/%05d/%s'%(output_rascas,simu,i,ion)\n",
    "    domdump_rep = '%s/%s/%05d/%s/domdump/'%(output_rascas,simu,i,ion)\n",
    "    spectrum_rep = '%s/%s/%05d/%s/%s/'%(output_rascas,simu,i,ion,spectrum_rep_name)\n",
    "\n",
    "    rascas_params = ''\n",
    "    rascas_params = rascas_params + '[RASCAS] \\n'\n",
    "    rascas_params = rascas_params + '  DomDumpDir = %s \\n'%domdump_rep\n",
    "    rascas_params = rascas_params + '  DomDumpFile  = domain_decomposition_params.dat \\n'\n",
    "    rascas_params = rascas_params + '  PhotonICFile = %s/%s \\n'%(spectrum_rep,IC_photons_name)\n",
    "    rascas_params = rascas_params + '  fileout = %s/%s \\n'%(spectrum_rep,output_name)\n",
    "    rascas_params = rascas_params + '  nbundle = 1000 \\n'\n",
    "    rascas_params = rascas_params + '  verbose = T \\n'"
   ]
  },
  {
   "cell_type": "code",
   "execution_count": 45,
   "metadata": {},
   "outputs": [
    {
     "name": "stdout",
     "output_type": "stream",
     "text": [
      "[RASCAS] \n",
      "  DomDumpDir = /Users/mauerhof/Documents/SiMapProject/Utils/tests//simu_jeremy/00107/CII/domdump/ \n",
      "  DomDumpFile  = domain_decomposition_params.dat \n",
      "  PhotonICFile = /Users/mauerhof/Documents/SiMapProject/Utils/tests//simu_jeremy/00107/CII/spectra//IC_photons.ic \n",
      "  fileout = /Users/mauerhof/Documents/SiMapProject/Utils/tests//simu_jeremy/00107/CII/spectra//output.out \n",
      "  nbundle = 1000 \n",
      "\n"
     ]
    }
   ],
   "source": [
    "print(rascas_params)"
   ]
  },
  {
   "cell_type": "code",
   "execution_count": null,
   "metadata": {},
   "outputs": [],
   "source": [
    "!--------------------------------------------------------------------------------\n",
    "[RASCAS]\n",
    "  DomDumpDir   = /cral/mauerhofer/RascasFiles/simu_jeremy/00164/CII/domdump/\n",
    "  DomDumpFile  = domain_decomposition_params.dat\n",
    "  PhotonICFile = /cral/mauerhofer/RascasFiles/simu_jeremy/00164/CII/spectra_108/IC_photons_1.ic\n",
    "  fileout      = /cral/mauerhofer/RascasFiles/simu_jeremy/00164/CII/spectra_108/output_fid.out\n",
    "  nbundle      = 1000\n",
    "  verbose      = T\n",
    "!--------------------------------------------------------------------------------"
   ]
  }
 ],
 "metadata": {
  "kernelspec": {
   "display_name": "Python 3",
   "language": "python",
   "name": "python3"
  },
  "language_info": {
   "codemirror_mode": {
    "name": "ipython",
    "version": 3
   },
   "file_extension": ".py",
   "mimetype": "text/x-python",
   "name": "python",
   "nbconvert_exporter": "python",
   "pygments_lexer": "ipython3",
   "version": "3.7.1"
  }
 },
 "nbformat": 4,
 "nbformat_minor": 2
}
