{
 "cells": [
  {
   "cell_type": "code",
   "execution_count": 1,
   "metadata": {},
   "outputs": [],
   "source": [
    "from astro import constants as c\n",
    "import numpy as np\n",
    "from minirats.HaloFinder.py.haloCatalog import haloCatalog as hC"
   ]
  },
  {
   "cell_type": "code",
   "execution_count": 2,
   "metadata": {},
   "outputs": [],
   "source": [
    "# define a halo catalog object\n",
    "RamsesDir = '/cral2/sphinx/05_F1000/02_IC20_BP/'\n",
    "readFromRamsesOutput = True"
   ]
  },
  {
   "cell_type": "code",
   "execution_count": 6,
   "metadata": {},
   "outputs": [],
   "source": [
    "for timestep in range(183,184):\n",
    "    hcat = hC(RamsesDir,timestep,HaloDir='Halos/')\n",
    "    # load the halo catalog \n",
    "    hcat.load_catalog()\n",
    "    hcat.convert_distances() # convert positions and sizes to code units (store in xxxx_cu variables)\n",
    "    \n",
    "    myhalo = np.argmax(hcat.mvir[hcat.level==1])\n",
    "    \n",
    "    z = hcat.info['redshift']\n",
    "    \n",
    "    f = open('setup_%10.4f.in'%z,'w')\n",
    "    f.write('a')\n",
    "    f.close()\n",
    "    "
   ]
  }
 ],
 "metadata": {
  "kernelspec": {
   "display_name": "Python 3",
   "language": "python",
   "name": "python3"
  },
  "language_info": {
   "codemirror_mode": {
    "name": "ipython",
    "version": 3
   },
   "file_extension": ".py",
   "mimetype": "text/x-python",
   "name": "python",
   "nbconvert_exporter": "python",
   "pygments_lexer": "ipython3",
   "version": "3.7.1"
  }
 },
 "nbformat": 4,
 "nbformat_minor": 2
}
