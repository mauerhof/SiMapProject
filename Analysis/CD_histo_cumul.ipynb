{
 "cells": [
  {
   "cell_type": "code",
   "execution_count": 2,
   "metadata": {},
   "outputs": [],
   "source": [
    "from scipy.io import FortranFile as ff\n",
    "import numpy as np\n",
    "#np.set_printoptions(threshold=50)\n",
    "import math\n",
    "from matplotlib import pyplot as plt\n",
    "from matplotlib import colors\n",
    "from matplotlib.colors import LogNorm"
   ]
  },
  {
   "cell_type": "code",
   "execution_count": 3,
   "metadata": {},
   "outputs": [],
   "source": [
    "#Read the initial rays, to get the weights (computed based on the luminosity of the stars)\n",
    "IC_file = '/cral/mauerhofer/RascasFiles/sphinx/05_F1000/02_IC20_BP/00183/OI_SiII/CD/Halo1/IC_columnDensity'\n",
    "f = ff(IC_file,'r')\n",
    "nrays = f.read_ints()[0]\n",
    "f.read_reals()\n",
    "weights = f.read_reals()\n",
    "f.close()"
   ]
  },
  {
   "cell_type": "code",
   "execution_count": 4,
   "metadata": {},
   "outputs": [
    {
     "name": "stdout",
     "output_type": "stream",
     "text": [
      "1510150\n",
      "[5.89591354e+45 5.65252523e+45 2.36823761e+45 ... 1.39650300e+46\n",
      " 4.74858049e+45 4.63669529e+45]\n"
     ]
    }
   ],
   "source": [
    "print(nrays)\n",
    "print(weights)"
   ]
  },
  {
   "cell_type": "code",
   "execution_count": 37,
   "metadata": {},
   "outputs": [],
   "source": [
    "#Read the output\n",
    "output_CD_file = '/cral/mauerhofer/RascasFiles/sphinx/05_F1000/02_IC20_BP/00183/OI_SiII/CD/Halo1/output_CD_2'\n",
    "f = ff(output_CD_file,'r')\n",
    "nrays = f.read_ints()[0]\n",
    "ndirections = f.read_ints()[0]\n",
    "nGas = f.read_ints()[0]\n",
    "vmin, vmax = f.read_reals()\n",
    "nBins = f.read_ints()[0]\n",
    "dv = (vmax-vmin)/nBins\n",
    "v = np.linspace(vmin - dv/2, vmax + dv/2, nBins+2)"
   ]
  },
  {
   "cell_type": "code",
   "execution_count": 6,
   "metadata": {},
   "outputs": [
    {
     "name": "stdout",
     "output_type": "stream",
     "text": [
      "10 3 -750.0 750.0 32\n"
     ]
    }
   ],
   "source": [
    "print(ndirections, nGas, vmin, vmax, nBins)"
   ]
  },
  {
   "cell_type": "code",
   "execution_count": 7,
   "metadata": {},
   "outputs": [],
   "source": [
    "#Define the directions \n",
    "import healpy as hp\n",
    "nside = 3  #nDirections = 12 * nside^2\n",
    "nvec = hp.nside2npix(nside)\n",
    "directions = np.zeros((nvec,3))\n",
    "for i in range (0,nvec) :\n",
    "    directions[i,:] = hp.pix2vec(nside,i)"
   ]
  },
  {
   "cell_type": "code",
   "execution_count": 8,
   "metadata": {},
   "outputs": [],
   "source": [
    "#plt.style.use('seaborn')"
   ]
  },
  {
   "cell_type": "code",
   "execution_count": 38,
   "metadata": {},
   "outputs": [],
   "source": [
    "#OI column density :\n",
    "fig2, ax2 = plt.subplots(figsize=(11, 7))\n",
    "n_bins=1000\n",
    "for k in range(ndirections):\n",
    "\n",
    "    CD = f.read_reals()\n",
    "    #CD begins with npart CD for the first bin of velocity,  then npart CD for the second bin,  etc\n",
    "    \n",
    "    CD2 = CD.reshape((nBins+2,nrays))\n",
    "\n",
    "    #To do the cumulative plot\n",
    "    CD_tot_per_part = np.sum(CD2,axis=0)\n",
    "    \n",
    "    n, bins, patches = ax2.hist(np.log10(CD_tot_per_part), bins=n_bins, weights=weights, density=True, histtype='step', cumulative=-1, label='direction %05.4f %05.4f %05.4f'%(directions[k,0],directions[k,1],directions[k,2]))\n",
    "    \n",
    "#To do the cumulative plot\n",
    "ax2.grid(which='both')\n",
    "ax2.grid(which='minor', alpha=0.5)\n",
    "#ax.set_xticks(minor_ticks_x, minor=True)\n",
    "#ax.set_yticks(minor_ticks_y, minor=True)\n",
    "ax2.legend(loc='center left')#,fontsize=18)\n",
    "plt.xticks(fontsize=14)\n",
    "plt.yticks(fontsize=14)\n",
    "ax2.set_xlim(10,22)\n",
    "ax2.set_title('Cumulative histogram', fontsize=30)\n",
    "ax2.set_xlabel(r'Log( Column density of OI $[\\mathrm{cm}^{-2}]$ )', fontsize=20)\n",
    "ax2.set_ylabel('Fraction of light facing N > x', fontsize=20)\n",
    "plt.savefig('/cral/mauerhofer/RascasFiles/sphinx/05_F1000/02_IC20_BP/00183/OI_SiII/CD/Halo1/histo_cumul_O_%i.png'%k)\n",
    "#plt.show()\n",
    "plt.close()"
   ]
  },
  {
   "cell_type": "code",
   "execution_count": 36,
   "metadata": {},
   "outputs": [],
   "source": [
    "#SiII column density :\n",
    "fig2, ax2 = plt.subplots(figsize=(11, 7))\n",
    "n_bins=1000\n",
    "for k in range(ndirections):\n",
    "\n",
    "    CD = f.read_reals()\n",
    "    #CD begins with npart CD for the first bin of velocity,  then npart CD for the second bin,  etc\n",
    "    \n",
    "    CD2 = CD.reshape((nBins+2,nrays))\n",
    "\n",
    "    #To do the cumulative plot\n",
    "    CD_tot_per_part = np.sum(CD2,axis=0)\n",
    "    \n",
    "    n, bins, patches = ax2.hist(np.log10(CD_tot_per_part), bins=n_bins, weights=weights, density=True, histtype='step', cumulative=-1, label='direction %05.4f %05.4f %05.4f'%(directions[k,0],directions[k,1],directions[k,2]))\n",
    "    \n",
    "#To do the cumulative plot\n",
    "ax2.grid(which='both')\n",
    "ax2.grid(which='minor', alpha=0.5)\n",
    "#ax.set_xticks(minor_ticks_x, minor=True)\n",
    "#ax.set_yticks(minor_ticks_y, minor=True)\n",
    "ax2.legend(loc='center left')#,fontsize=18)\n",
    "plt.xticks(fontsize=14)\n",
    "plt.yticks(fontsize=14)\n",
    "ax2.set_xlim(10,22)\n",
    "ax2.set_title('Cumulative histogram', fontsize=30)\n",
    "ax2.set_xlabel(r'Log( Column density of SiII $[\\mathrm{cm}^{-2}]$ )', fontsize=20)\n",
    "ax2.set_ylabel('Fraction of light facing N > x', fontsize=20)\n",
    "plt.savefig('/cral/mauerhofer/RascasFiles/sphinx/05_F1000/02_IC20_BP/00183/OI_SiII/CD/Halo1/histo_cumul_Si_%i.png'%k)\n",
    "#plt.show()\n",
    "plt.close()\n",
    "f.close()"
   ]
  },
  {
   "cell_type": "code",
   "execution_count": 11,
   "metadata": {},
   "outputs": [],
   "source": []
  },
  {
   "cell_type": "code",
   "execution_count": 34,
   "metadata": {},
   "outputs": [
    {
     "name": "stdout",
     "output_type": "stream",
     "text": [
      "['Solarize_Light2', '_classic_test', 'bmh', 'classic', 'dark_background', 'fast', 'fivethirtyeight', 'ggplot', 'grayscale', 'seaborn-bright', 'seaborn-colorblind', 'seaborn-dark-palette', 'seaborn-dark', 'seaborn-darkgrid', 'seaborn-deep', 'seaborn-muted', 'seaborn-notebook', 'seaborn-paper', 'seaborn-pastel', 'seaborn-poster', 'seaborn-talk', 'seaborn-ticks', 'seaborn-white', 'seaborn-whitegrid', 'seaborn', 'tableau-colorblind10']\n"
     ]
    }
   ],
   "source": [
    "print(plt.style.available)"
   ]
  },
  {
   "cell_type": "code",
   "execution_count": null,
   "metadata": {},
   "outputs": [],
   "source": []
  }
 ],
 "metadata": {
  "kernelspec": {
   "display_name": "Python 3",
   "language": "python",
   "name": "python3"
  },
  "language_info": {
   "codemirror_mode": {
    "name": "ipython",
    "version": 3
   },
   "file_extension": ".py",
   "mimetype": "text/x-python",
   "name": "python",
   "nbconvert_exporter": "python",
   "pygments_lexer": "ipython3",
   "version": "3.7.1"
  }
 },
 "nbformat": 4,
 "nbformat_minor": 2
}
