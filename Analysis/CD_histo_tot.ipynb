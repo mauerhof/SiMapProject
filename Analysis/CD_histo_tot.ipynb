{
 "cells": [
  {
   "cell_type": "code",
   "execution_count": 1,
   "metadata": {},
   "outputs": [],
   "source": [
    "from scipy.io import FortranFile as ff\n",
    "import numpy as np\n",
    "#np.set_printoptions(threshold=50)\n",
    "import math\n",
    "from matplotlib import pyplot as plt\n",
    "from matplotlib import colors\n",
    "from matplotlib.colors import LogNorm"
   ]
  },
  {
   "cell_type": "code",
   "execution_count": 18,
   "metadata": {},
   "outputs": [],
   "source": [
    "#Define the directions \n",
    "import healpy as hp\n",
    "nside = 3  #nDirections = 12 * nside^2\n",
    "nvec = hp.nside2npix(nside)\n",
    "directions = np.zeros((nvec,3))\n",
    "for i in range (0,nvec) :\n",
    "    directions[i,:] = hp.pix2vec(nside,i)"
   ]
  },
  {
   "cell_type": "code",
   "execution_count": 12,
   "metadata": {},
   "outputs": [],
   "source": [
    "#Read the initial rays, to get the weights (computed based on the luminosity of the stars)\n",
    "IC_file = '/cral/mauerhofer/RascasFiles/sphinx/05_F1000/02_IC20_BP/00183/Halo1/OI_SiII/CD/IC_CD'\n",
    "f = ff(IC_file,'r')\n",
    "nrays = f.read_ints()[0]\n",
    "f.read_reals()\n",
    "weights = f.read_reals()\n",
    "f.close()"
   ]
  },
  {
   "cell_type": "code",
   "execution_count": 13,
   "metadata": {},
   "outputs": [
    {
     "name": "stdout",
     "output_type": "stream",
     "text": [
      "1510021\n",
      "[5.89591354e+45 5.65252523e+45 2.36823761e+45 ... 1.39650300e+46\n",
      " 4.74858049e+45 4.63669529e+45]\n"
     ]
    }
   ],
   "source": [
    "print(nrays)\n",
    "print(weights)"
   ]
  },
  {
   "cell_type": "code",
   "execution_count": 26,
   "metadata": {},
   "outputs": [],
   "source": [
    "#Read the output\n",
    "f.close()\n",
    "output_CD_file = '/cral/mauerhofer/RascasFiles/sphinx/05_F1000/02_IC20_BP/00183/Halo1/OI_SiII/CD/output_CD_3'\n",
    "f = ff(output_CD_file,'r')\n",
    "nrays = f.read_ints()[0]\n",
    "ndirections = f.read_ints()[0]\n",
    "nGas = f.read_ints()[0]\n",
    "vmin, vmax = f.read_reals()\n",
    "nBins = f.read_ints()[0]\n",
    "dv = (vmax-vmin)/nBins\n",
    "v = np.linspace(vmin - dv/2, vmax + dv/2, nBins+2)"
   ]
  },
  {
   "cell_type": "code",
   "execution_count": 27,
   "metadata": {},
   "outputs": [
    {
     "name": "stdout",
     "output_type": "stream",
     "text": [
      "6 3 -500.0 500.0 20\n"
     ]
    }
   ],
   "source": [
    "print(ndirections, nGas, vmin, vmax, nBins)"
   ]
  },
  {
   "cell_type": "code",
   "execution_count": 24,
   "metadata": {},
   "outputs": [],
   "source": [
    "CD_dust = np.zeros((ndirections,nrays))\n",
    "for k in range(ndirections):\n",
    "    CD = f.read_reals()\n",
    "    CD2 = CD.reshape((nBins+2,nrays))\n",
    "    CD_dust[k,:] = np.sum(CD2,axis=0)"
   ]
  },
  {
   "cell_type": "code",
   "execution_count": 32,
   "metadata": {},
   "outputs": [
    {
     "data": {
      "image/png": "[encoded data removed]",
      "text/plain": [
       "<Figure size 720x432 with 2 Axes>"
      ]
     },
     "metadata": {
      "needs_background": "light"
     },
     "output_type": "display_data"
    }
   ],
   "source": [
    "#OI column density :\n",
    "#Read the output\n",
    "f.close()\n",
    "output_CD_file = '/cral/mauerhofer/RascasFiles/sphinx/05_F1000/02_IC20_BP/00183/Halo1/OI_SiII/CD/output_CD_1'\n",
    "f = ff(output_CD_file,'r')\n",
    "nrays = f.read_ints()[0]\n",
    "ndirections = f.read_ints()[0]\n",
    "nGas = f.read_ints()[0]\n",
    "vmin, vmax = f.read_reals()\n",
    "nBins = f.read_ints()[0]\n",
    "dv = (vmax-vmin)/nBins\n",
    "v = np.linspace(vmin - dv/2, vmax + dv/2, nBins+2)\n",
    "for k in range(1):#ndirections):\n",
    "\n",
    "    CD = f.read_reals()\n",
    "    #CD begins with npart CD for the first bin of velocity,  then npart CD for the second bin,  etc\n",
    "\n",
    "    CD[np.where(CD>0)] = np.log10(CD[np.where(CD>0)])\n",
    "\n",
    "    #Question : \n",
    "    #for i in range(nrays):\n",
    "    #    weights[i] = weights[i]/np.where(CD2[:,i]!=0)[0].size\n",
    "    \n",
    "    v_all = np.repeat(v,nrays)\n",
    "    weights_dust = weights*np.exp(-6.5e-23*CD_dust[k,:])\n",
    "    weights_all = np.tile(weights_dust,nBins+2)\n",
    "\n",
    "    xedges = np.linspace(vmin-dv, vmax + dv,nBins+3)\n",
    "    yedges = np.arange(1,21.1,1)\n",
    "\n",
    "    histo, xedges, yedges = np.histogram2d(v_all, CD, bins=(xedges,yedges), weights=weights_all, normed=False)\n",
    "\n",
    "    for i in range(histo[:,0].size):\n",
    "        histo[i,:] = histo[i,:]/sum(histo[i,:])\n",
    "\n",
    "    histo = np.ma.masked_where(histo < 0.0001, histo)\n",
    "    cmap = plt.cm.gist_ncar_r\n",
    "    #cmap = plt.cm.PuBu_r\n",
    "    cmap.set_bad(color='white')\n",
    "    #cmap.set_bad(color='black')\n",
    "\n",
    "    fig, ax = plt.subplots(figsize=(10, 6))\n",
    "    plt.imshow(histo.T, origin='lower', extent=[xedges[0], xedges[-1], yedges[0], yedges[-1]], aspect='auto', cmap=cmap)#,norm=LogNorm())\n",
    "    plt.axhline(14.5,color='purple',linestyle='--', label=r'$\\tau_{1302} = 10$')\n",
    "    plt.axhline(13.5,color='deeppink',linestyle='--', label=r'$\\tau_{1302} = 1$')\n",
    "    plt.axvline(0,color='limegreen',linestyle='--')\n",
    "    plt.legend(loc='upper left', fontsize=14)\n",
    "    cbar = plt.colorbar()\n",
    "    plt.clim(0,1)\n",
    "    plt.xlabel('v [km/s]', fontsize=14)\n",
    "    plt.ylabel(r'$\\mathrm{log}( \\: N_{OI} \\, [\\mathrm{cm}^{-2}] \\: )$', fontsize=14)\n",
    "    #plt.title('2D histogram, direction %s'%directions[k], fontsize = 16)\n",
    "    plt.title('2D histogram, direction %05.4f %05.4f %05.4f'%(directions[k,0],directions[k,1],directions[k,2]), fontsize = 16)\n",
    "    cbar.set_label('Fraction of luminosity', fontsize=14)\n",
    "    plt.xticks(np.arange(xedges[0]+dv, xedges[-1]-dv+0.01, 100))\n",
    "    plt.show()\n",
    "    #plt.savefig('/cral/mauerhofer/RascasFiles/sphinx/05_F1000/02_IC20_BP/00183/OI_SiII/CD/Halo1/histo_tot_O_%i.png'%k)\n",
    "    plt.close()"
   ]
  },
  {
   "cell_type": "code",
   "execution_count": 23,
   "metadata": {},
   "outputs": [],
   "source": [
    "f.close()"
   ]
  },
  {
   "cell_type": "code",
   "execution_count": 26,
   "metadata": {},
   "outputs": [],
   "source": [
    "#SiII column density :\n",
    "for k in range(ndirections):\n",
    "\n",
    "    CD = f.read_reals()\n",
    "    #CD begins with npart CD for the first bin of velocity,  then npart CD for the second bin,  etc\n",
    "\n",
    "    CD[np.where(CD>0)] = np.log10(CD[np.where(CD>0)])\n",
    "\n",
    "    #Question : \n",
    "    #for i in range(nrays):\n",
    "    #    weights[i] = weights[i]/np.where(CD2[:,i]!=0)[0].size\n",
    "    \n",
    "    v_all = np.repeat(v,nrays)\n",
    "    weights_all = np.tile(weights,nBins+2)\n",
    "\n",
    "    xedges = np.linspace(vmin-dv, vmax + dv,nBins+3)\n",
    "    yedges = np.arange(1,21.1,0.8)\n",
    "\n",
    "    histo, xedges, yedges = np.histogram2d(v_all, CD, bins=(xedges,yedges), weights=weights_all, normed=False)\n",
    "\n",
    "    for i in range(histo[:,0].size):\n",
    "        histo[i,:] = histo[i,:]/sum(histo[i,:])\n",
    "\n",
    "    histo = np.ma.masked_where(histo < 0.0001, histo)\n",
    "    cmap = plt.cm.gist_ncar_r\n",
    "    #cmap = plt.cm.PuBu_r\n",
    "    cmap.set_bad(color='white')\n",
    "    #cmap.set_bad(color='black')\n",
    "\n",
    "    fig, ax = plt.subplots(figsize=(10, 6))\n",
    "    plt.imshow(histo.T, origin='lower', extent=[xedges[0], xedges[-1], yedges[0], yedges[-1]], aspect='auto', cmap=cmap)#,norm=LogNorm())\n",
    "    plt.axhline(13.03,color='purple',linestyle='--', label=r'$\\tau_{1260} = 10$')\n",
    "    plt.axhline(12.03,color='deeppink',linestyle='--', label=r'$\\tau_{1260} = 1$')\n",
    "    plt.axvline(0,color='limegreen',linestyle='--')\n",
    "    plt.legend(loc='upper left', fontsize=14)\n",
    "    cbar = plt.colorbar()\n",
    "    plt.clim(0,1)\n",
    "    plt.xlabel('v [km/s]', fontsize=14)\n",
    "    plt.ylabel(r'$\\mathrm{log}( \\: N_{SiII} \\, [\\mathrm{cm}^{-2}] \\: )$', fontsize=14)\n",
    "    #plt.title('2D histogram, direction %s'%directions[k], fontsize = 16)\n",
    "    plt.title('2D histogram, direction %05.4f %05.4f %05.4f'%(directions[k,0],directions[k,1],directions[k,2]), fontsize = 16)\n",
    "    cbar.set_label('Fraction of luminosity', fontsize=14)\n",
    "    plt.xticks(np.arange(xedges[0]+dv, xedges[-1]-dv+0.01, 150))\n",
    "    #plt.show()\n",
    "    plt.savefig('/cral/mauerhofer/RascasFiles/sphinx/05_F1000/02_IC20_BP/00183/OI_SiII/CD/Halo1/histo_tot_Si_%i.png'%k)\n",
    "    plt.close()"
   ]
  },
  {
   "cell_type": "code",
   "execution_count": 22,
   "metadata": {},
   "outputs": [],
   "source": [
    "f.close()"
   ]
  },
  {
   "cell_type": "code",
   "execution_count": 11,
   "metadata": {},
   "outputs": [],
   "source": [
    "#dust column density :\n",
    "for k in range(ndirections):\n",
    "\n",
    "    CD = f.read_reals()\n",
    "    #CD begins with npart CD for the first bin of velocity,  then npart CD for the second bin,  etc\n",
    "\n",
    "    CD[np.where(CD>0)] = np.log10(CD[np.where(CD>0)])\n",
    "\n",
    "    #Question : \n",
    "    #for i in range(nrays):\n",
    "    #    weights[i] = weights[i]/np.where(CD2[:,i]!=0)[0].size\n",
    "    \n",
    "    v_all = np.repeat(v,nrays)\n",
    "    weights_all = np.tile(weights,nBins+2)\n",
    "\n",
    "    xedges = np.linspace(vmin-dv, vmax + dv,nBins+3)\n",
    "    yedges = np.arange(1,21.1,0.8)\n",
    "\n",
    "    histo, xedges, yedges = np.histogram2d(v_all, CD, bins=(xedges,yedges), weights=weights_all, normed=False)\n",
    "\n",
    "    for i in range(histo[:,0].size):\n",
    "        histo[i,:] = histo[i,:]/sum(histo[i,:])\n",
    "\n",
    "    histo = np.ma.masked_where(histo < 0.01, histo)\n",
    "    cmap = plt.cm.gist_ncar_r\n",
    "    #cmap = plt.cm.PuBu_r\n",
    "    cmap.set_bad(color='white')\n",
    "    #cmap.set_bad(color='black')\n",
    "\n",
    "    fig, ax = plt.subplots(figsize=(10, 6))\n",
    "    plt.imshow(histo.T, origin='lower', extent=[xedges[0], xedges[-1], yedges[0], yedges[-1]], aspect='auto', cmap=cmap)#,norm=LogNorm())\n",
    "    plt.axhline(14.5,color='purple',linestyle='--', label=r'$\\tau_{1302} = 10$')\n",
    "    plt.axhline(13.5,color='deeppink',linestyle='--', label=r'$\\tau_{1302} = 1$')\n",
    "    plt.axvline(0,color='limegreen',linestyle='--')\n",
    "    plt.legend(loc='upper left', fontsize=14)\n",
    "    cbar = plt.colorbar()\n",
    "    plt.clim(0,1)\n",
    "    plt.xlabel('v [km/s]', fontsize=14)\n",
    "    plt.ylabel(r'$\\mathrm{log}( \\: N_{dust} \\, [\\mathrm{cm}^{-2}] \\: )$', fontsize=14)\n",
    "    #plt.title('2D histogram, direction %s'%directions[k], fontsize = 16)\n",
    "    plt.title('2D histogram, direction %05.4f %05.4f %05.4f'%(directions[k,0],directions[k,1],directions[k,2]), fontsize = 16)\n",
    "    cbar.set_label('Fraction of luminosity', fontsize=14)\n",
    "    plt.xticks(np.arange(xedges[0]+dv, xedges[-1]-dv+0.01, 150))\n",
    "    #plt.show()\n",
    "    plt.savefig('/cral/mauerhofer/RascasFiles/sphinx/05_F1000/02_IC20_BP/00183/OI_SiII/CD/Halo1/histo_tot_dust_%i.png'%k)\n",
    "    plt.close()"
   ]
  },
  {
   "cell_type": "code",
   "execution_count": 34,
   "metadata": {},
   "outputs": [
    {
     "name": "stdout",
     "output_type": "stream",
     "text": [
      "['Solarize_Light2', '_classic_test', 'bmh', 'classic', 'dark_background', 'fast', 'fivethirtyeight', 'ggplot', 'grayscale', 'seaborn-bright', 'seaborn-colorblind', 'seaborn-dark-palette', 'seaborn-dark', 'seaborn-darkgrid', 'seaborn-deep', 'seaborn-muted', 'seaborn-notebook', 'seaborn-paper', 'seaborn-pastel', 'seaborn-poster', 'seaborn-talk', 'seaborn-ticks', 'seaborn-white', 'seaborn-whitegrid', 'seaborn', 'tableau-colorblind10']\n"
     ]
    }
   ],
   "source": [
    "print(plt.style.available)"
   ]
  }
 ],
 "metadata": {
  "kernelspec": {
   "display_name": "Python 3",
   "language": "python",
   "name": "python3"
  },
  "language_info": {
   "codemirror_mode": {
    "name": "ipython",
    "version": 3
   },
   "file_extension": ".py",
   "mimetype": "text/x-python",
   "name": "python",
   "nbconvert_exporter": "python",
   "pygments_lexer": "ipython3",
   "version": "3.7.1"
  }
 },
 "nbformat": 4,
 "nbformat_minor": 2
}
