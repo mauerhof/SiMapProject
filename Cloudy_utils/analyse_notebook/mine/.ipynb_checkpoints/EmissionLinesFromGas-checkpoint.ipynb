{
 "cells": [
  {
   "cell_type": "code",
   "execution_count": 1,
   "metadata": {},
   "outputs": [],
   "source": [
    "# import minirats \n",
    "from minirats.HaloFinder.py.haloCatalog import haloCatalog as hC\n",
    "from minirats.utils.py.cellutils import py_cell_utils as cu\n",
    "from minirats.utils.py.f90utils import star_utils as SU\n",
    "\n",
    "# other imports \n",
    "import numpy as np\n",
    "import matplotlib.pyplot as plt\n",
    "from matplotlib.colors import LogNorm\n",
    "from scipy.io import FortranFile\n",
    "import h5py, os\n",
    "\n",
    "# constants \n",
    "h_cgs     = 6.6260755e-27  # [erg s]\n",
    "clight    = 2.99792458e10  # [cm/s]\n",
    "erg2Ryd   = 1. / 2.17987e-11 "
   ]
  },
  {
   "cell_type": "code",
   "execution_count": 288,
   "metadata": {},
   "outputs": [],
   "source": [
    "# Function taken fron ramses utils, by Trebitsch & Rosdahl.\n",
    "def readRamsesSEDs(sedDir):\n",
    "    \"\"\"Read SED in ramses format and return\n",
    "    Parameters:\n",
    "    ----------------------------------------------------------------------\n",
    "    sedDir: Directory containing the SED tables\n",
    "    \"\"\"\n",
    "    # Read metallicity bins\n",
    "    ZFile = open(sedDir+'/metallicity_bins.dat', 'r')\n",
    "    nZ = eval(ZFile.readline())\n",
    "    ZBins = []\n",
    "    for Z in range(0,nZ): ZBins.append(eval(ZFile.readline()))\n",
    "    ZFile.close()\n",
    "\n",
    "    # Read age bins\n",
    "    ageFile = open(sedDir+'/age_bins.dat', 'r')\n",
    "    nAge = eval(ageFile.readline())\n",
    "    ageBins = []\n",
    "    for age in range(0,nAge): ageBins.append(eval(ageFile.readline()))\n",
    "    ageFile.close()\n",
    "\n",
    "    # Read wavelength bins and spectra\n",
    "    # spectra are in [Lsun / A / Msun]\n",
    "    # with Lsun = 3.826e33 erg/s and Msun = 2e33g\n",
    "    sedFile = FortranFile(sedDir+'/all_seds.dat','r')\n",
    "    nLambda = sedFile.read_ints()[0]\n",
    "    lambdaBins = sedFile.read_reals()\n",
    "    spectra = np.empty([nLambda,nAge,nZ])\n",
    "    for iZ in range(0,nZ):\n",
    "        for iAge in range(0,nAge):\n",
    "            spectrum = sedFile.read_reals()\n",
    "            spectra[:,iAge,iZ] = spectrum  \n",
    "\n",
    "    Lsun_cgs = 3.826e33\n",
    "    Msun_cgs = 2e33\n",
    "    return {'ZBins':ZBins, 'ageBins':ageBins, 'lambdaBins':lambdaBins,'spectra':spectra,'Lsun_cgs':Lsun_cgs,'Msun_cgs':Msun_cgs}\n",
    "\n",
    "def get_iage_iZ(Z,age,Zbins,agebins):\n",
    "    # interpolation weigths in Z \n",
    "    if Z <= Zbins[0]:\n",
    "        iz1 = 0\n",
    "        wz1 = 1.0 # full weight to iz1 (and zero to iz1+1)\n",
    "    elif Z >= Zbins[-1]:\n",
    "        iz1 = len(Zbins)-2\n",
    "        wz1 = 0.0 # no weight to iz1 (and full weight to iz1+1)\n",
    "    else:\n",
    "        iz1 = 0\n",
    "        while (Z >= Zbins[iz1+1]):\n",
    "            iz1 = iz1 + 1\n",
    "        # Z is between Zbins[iz1] and Zbins[iz1+1]\n",
    "        wz1 = (Zbins[iz1+1] - Z) / (Zbins[iz1+1]-Zbins[iz1])\n",
    "    # interpolation weights in age\n",
    "    if age <= agebins[0]:\n",
    "        ia1 = 0\n",
    "        wa1 = 1.0 # full weight to ia1 (and zero to ia1+1)\n",
    "    elif age >= agebins[-1]:\n",
    "        ia1 = len(agebins)-2\n",
    "        wa1 = 0.0 # no weight to ia1 (and full weight to ia1+1)\n",
    "    else:\n",
    "        ia1 = 0\n",
    "        while (age >= agebins[ia1+1]):\n",
    "            ia1 = ia1 + 1\n",
    "        # age is between agebins[ia1-1] and agebins[ia1]\n",
    "        wa1 = (agebins[ia1+1] - age)/(agebins[ia1+1]-agebins[ia1])\n",
    "    return iz1,wz1,ia1,wa1\n",
    "\n",
    "\n",
    "def h5_read_stars(filename):\n",
    "    f = h5py.File(filename,'r')\n",
    "    star_mass = f['star_mass'][:]\n",
    "    star_x = f['star_x'][:]\n",
    "    star_y = f['star_y'][:]\n",
    "    star_z = f['star_z'][:]\n",
    "    star_id = f['star_id'][:]\n",
    "    star_age = f['star_age'][:]\n",
    "    star_vx = f['star_vx'][:]\n",
    "    star_vy = f['star_vy'][:]\n",
    "    star_vz = f['star_vz'][:]\n",
    "    star_mets = f['star_mets'][:]\n",
    "    star_minit = f['star_minit'][:]\n",
    "    f.close()\n",
    "    return star_mass,star_x,star_y,star_z,star_id,star_age,star_vx,star_vy,star_vz,star_mets,star_minit\n",
    "\n",
    "def h5_read_cells(filename):\n",
    "    f = h5py.File(filename,'r')\n",
    "    cells = f[\"cells\"][:,:]\n",
    "    if 'rt' not in filename:\n",
    "        cell_pos = f[\"cell_pos\"][:,:]\n",
    "        cell_l = f[\"cell_l\"][:]\n",
    "        f.close()\n",
    "        return cells,cell_pos,cell_l\n",
    "    else:\n",
    "        f.close()\n",
    "        return cells\n"
   ]
  },
  {
   "cell_type": "code",
   "execution_count": 252,
   "metadata": {},
   "outputs": [],
   "source": [
    "# define a halo catalog object\n",
    "RamsesDir = '/Users/mauerhof/Documents/RamsesFiles/SIMULATIONS/P13-20h-1Mpc-MUSIC/Zoom-7-10508/SPHINX_run/' #'/scratch/blaizot/sphinx/05_F1000/02_IC20_BP/'\n",
    "timestep  = 137  # 183\n",
    "# RamsesDir = '/Users/blaizot/Documents/Astro/SIMULATIONS/P13-20h-1Mpc-MUSIC/Zoom-7-10508/SPHINX_run/' #'/scratch/blaizot/sphinx/05_F1000/02_IC20_BP/'\n",
    "# timestep  = 30 #148  # 183\n",
    "readFromRamsesOutput = False \n",
    "\n",
    "hcat = hC(RamsesDir,timestep,HaloDir='Halos/',zoom=True)"
   ]
  },
  {
   "cell_type": "code",
   "execution_count": 253,
   "metadata": {},
   "outputs": [],
   "source": [
    "# load the halo catalog \n",
    "hcat.load_catalog()\n",
    "hcat.convert_distances() # convert positions and sizes to code units (store in xxxx_cu variables)"
   ]
  },
  {
   "cell_type": "code",
   "execution_count": 254,
   "metadata": {},
   "outputs": [],
   "source": [
    "# select a halo \n",
    "hmain = np.where((hcat.level==1) &(hcat.contam < 0.5) &(hcat.mvir > 4e7*1e-11))[0]\n",
    "myhalo = hmain[np.where(hcat.mvir[hmain]==max(hcat.mvir[hmain]))[0][0]]\n",
    "center = [hcat.x_cu[myhalo],hcat.y_cu[myhalo],hcat.z_cu[myhalo]]\n",
    "radius = 1.2*hcat.rvir_cu[myhalo]\n"
   ]
  },
  {
   "cell_type": "markdown",
   "metadata": {},
   "source": [
    "## Definition de la forme spectrale dans chaque bin\n",
    "On utilise le spectre de l'ensemble des étoiles du halo "
   ]
  },
  {
   "cell_type": "code",
   "execution_count": 255,
   "metadata": {},
   "outputs": [
    {
     "data": {
      "text/plain": [
       "dict_keys(['ZBins', 'ageBins', 'lambdaBins', 'spectra', 'Lsun_cgs', 'Msun_cgs'])"
      ]
     },
     "execution_count": 255,
     "metadata": {},
     "output_type": "execute_result"
    }
   ],
   "source": [
    "# Read SSP spectra from sedDir \n",
    "ssp = readRamsesSEDs('/Users/mauerhof/Documents/seds/bpass100/')\n",
    "ssp.keys()"
   ]
  },
  {
   "cell_type": "code",
   "execution_count": 351,
   "metadata": {},
   "outputs": [],
   "source": [
    "# read the star particles ... \n",
    "if readFromRamsesOutput:\n",
    "    nstars = SU.get_tot_nstars(RamsesDir,timestep)   # get nb of star particles in the output\n",
    "    star_mass,star_x,star_y,star_z,star_id,star_age,star_vx,star_vy,star_vz,star_mets,star_minit = SU.read_stars_all_props(RamsesDir,timestep,nstars,True,age_conv=True)\n",
    "else:\n",
    "    h5CellFile = '%s/Halos/%5.5i/stars.h5'%(RamsesDir,timestep)\n",
    "    star_mass,star_x,star_y,star_z,star_id,star_age,star_vx,star_vy,star_vz,star_mets,star_minit = h5_read_stars(h5CellFile)\n"
   ]
  },
  {
   "cell_type": "code",
   "execution_count": 352,
   "metadata": {},
   "outputs": [],
   "source": [
    "# select star particles in the halo \n",
    "d2 = (star_x-center[0])**2 + (star_y-center[1])**2 + (star_z-center[2])**2\n",
    "ii = np.where(d2 < radius*radius)[0]\n",
    "star_mass,star_x,star_y,star_z,star_id,star_age,star_vx,star_vy,star_vz,star_mets,star_minit = \\\n",
    "    star_mass[ii],star_x[ii],star_y[ii],star_z[ii],star_id[ii],star_age[ii],star_vx[ii],\\\n",
    "    star_vy[ii],star_vz[ii],star_mets[ii],star_minit[ii]\n",
    "# convert ages to yr \n",
    "star_age = star_age * 1e6  # [yr]\n",
    "# convert mass to Msun \n",
    "star_minit = star_minit * (hcat.info['unit_d'] * hcat.info['unit_l']**3 / ssp['Msun_cgs'])  # [Msun]"
   ]
  },
  {
   "cell_type": "code",
   "execution_count": 354,
   "metadata": {
    "scrolled": false
   },
   "outputs": [],
   "source": [
    "# compute weight of each SED in the full spectrum \n",
    "weights = np.zeros((len(ssp['ZBins']),len(ssp['ageBins'])))\n",
    "for age,Z,m in zip(star_age,star_mets,star_minit):\n",
    "    iz,wz,ia,wa        = get_iage_iZ(Z,age,ssp['ZBins'],ssp['ageBins'])\n",
    "    weights[iz,ia]     = weights[iz,ia]     + wz*wa * m\n",
    "    weights[iz+1,ia]   = weights[iz+1,ia]   + (1-wz)*wa * m\n",
    "    weights[iz,ia+1]   = weights[iz,ia+1]   + wz*(1-wa) * m\n",
    "    weights[iz+1,ia+1] = weights[iz+1,ia+1] + (1-wz)*(1-wa) * m\n"
   ]
  },
  {
   "cell_type": "code",
   "execution_count": 355,
   "metadata": {},
   "outputs": [],
   "source": [
    "# compute the full spectrum \n",
    "flux = np.zeros((len(ssp['lambdaBins'])))\n",
    "for ia in range(len(ssp['ageBins'])):\n",
    "    for iz in range(len(ssp['ZBins'])):\n",
    "        flux = flux + ssp['spectra'][:,ia,iz] * weights[iz,ia]\n",
    "flux = flux * ssp['Lsun_cgs'] # [erg/s/A]\n",
    "flux = flux * ssp['lambdaBins'] * (ssp['lambdaBins']*1e-8) / clight # [erg/s/Hz]\n",
    "ryds = h_cgs * clight / (ssp['lambdaBins']*1e-8) * erg2Ryd  # energy in Rydberg \n",
    "nus  = clight / (ssp['lambdaBins']*1e-8) # [Hz]\n"
   ]
  },
  {
   "cell_type": "code",
   "execution_count": 359,
   "metadata": {},
   "outputs": [
    {
     "data": {
      "text/plain": [
       "Text(0.5, 0, '$\\\\lambda$ [A]')"
      ]
     },
     "execution_count": 359,
     "metadata": {},
     "output_type": "execute_result"
    },
    {
     "data": {
      "image/png": "[encoded data removed]",
      "text/plain": [
       "<Figure size 432x288 with 1 Axes>"
      ]
     },
     "metadata": {
      "needs_background": "light"
     },
     "output_type": "display_data"
    }
   ],
   "source": [
    "import matplotlib.pyplot as plt\n",
    "# plt.plot(ryds, flux*nus)\n",
    "plt.plot(clight/nus*1e8,flux*nus)\n",
    "plt.yscale('log'); plt.xscale('log')\n",
    "plt.xlabel(r'$\\lambda$ [A]')\n"
   ]
  },
  {
   "cell_type": "code",
   "execution_count": 16,
   "metadata": {},
   "outputs": [],
   "source": [
    "# premier bin d'energie (<13.6eV == 1Ryd), etc\n",
    "bin0 = np.where(ryds  <= 0.999469)[0]\n",
    "f = open('sedCloudy_grp0.sed','w')\n",
    "for x,y in zip(ryds[bin0],flux[bin0]):\n",
    "    f.write(\"%.16e %.16e \\n\"%(x,y))\n",
    "f.close()\n",
    "bin1 = np.where((ryds > 0.999469)&(ryds<=1.807))[0]\n",
    "f = open('sedCloudy_grp1.sed','w')\n",
    "for x,y in zip(ryds[bin1],flux[bin1]):\n",
    "    f.write(\"%.16e %.16e \\n\"%(x,y))\n",
    "f.close()\n",
    "bin2 = np.where((ryds > 1.807)   &(ryds<=3.9996))[0]\n",
    "f = open('sedCloudy_grp2.sed','w')\n",
    "for x,y in zip(ryds[bin2],flux[bin2]):\n",
    "    f.write(\"%.16e %.16e \\n\"%(x,y))\n",
    "f.close()\n",
    "bin3 = np.where(ryds  > 3.9996)[0]\n",
    "f = open('sedCloudy_grp3.sed','w')\n",
    "for x,y in zip(ryds[bin3],flux[bin3]):\n",
    "    f.write(\"%.16e %.16e \\n\"%(x,y))\n",
    "f.close()\n"
   ]
  },
  {
   "cell_type": "markdown",
   "metadata": {},
   "source": [
    "## normalisation des intensités à partir de l'output RAMSES \n",
    "- lire les cellules pour récupérer leurs propriétés _et_ le rayonnement \n",
    "- convertir Nphot [#/s/cm2] en L [erg/s/cm2]\n",
    "- Mettre [nH, Z, J1, J2, J3, J4, T] dans un fichier d'input pour Cloudy\n"
   ]
  },
  {
   "cell_type": "code",
   "execution_count": 17,
   "metadata": {},
   "outputs": [],
   "source": [
    "# read cells\n",
    "if readFromRamsesOutput:\n",
    "    lmax = -1 # read all levels \n",
    "    ncells = cu.count_cells(RamsesDir,timestep,lmax,center,radius)\n",
    "    idens   = 1\n",
    "    ivx,ivy,ivz=2,3,4\n",
    "    ipre    = 5\n",
    "    imet    = 6\n",
    "    ixhii   = 7\n",
    "    ixheii  = 8\n",
    "    ixheiii = 9\n",
    "    # RT fields\n",
    "    iNp1,iNp2,iNp3 = 11,15,19\n",
    "    readRT=True\n",
    "    cells,cell_pos,cell_l = cu.read_cells_hydro(RamsesDir,timestep,lmax,ncells,\n",
    "                                                              [idens,ipre,ixhii,ixheii,ixheiii,\n",
    "                                                               ivx,ivy,ivz,imet,iNp1,iNp2,iNp3],\n",
    "                                                              center,radius,readRT)\n",
    "else:\n",
    "    h5CellFile = '%s/Halos/%5.5i/cells.h5'%(RamsesDir,timestep)\n",
    "    cells,cell_pos,cell_l = h5_read_cells(h5CellFile)\n",
    "    h5CellFile = '%s/Halos/%5.5i/cells_rt.h5'%(RamsesDir,timestep)\n",
    "    cells_rt = h5_read_cells(h5CellFile)\n"
   ]
  },
  {
   "cell_type": "code",
   "execution_count": 18,
   "metadata": {},
   "outputs": [],
   "source": [
    "# get units for photons \n",
    "filename = \"%s/output_%5.5i/info_rt_%5.5i.txt\"%(RamsesDir,timestep,timestep)\n",
    "f = open(filename,'r')\n",
    "ls = f.readlines()\n",
    "for i,l in enumerate(ls):\n",
    "    if 'unit_pf' in l:\n",
    "        unit_fp = float(l.split()[2])\n",
    "    if 'Group 1' in l:\n",
    "        csn1 = float(ls[i+2].split()[3])\n",
    "    if 'Group 2' in l:\n",
    "        csn2 = float(ls[i+2].split()[3])\n",
    "    if 'Group 3' in l:\n",
    "        csn3 = float(ls[i+2].split()[3])\n",
    "f.close()\n"
   ]
  },
  {
   "cell_type": "code",
   "execution_count": 132,
   "metadata": {},
   "outputs": [
    {
     "name": "stdout",
     "output_type": "stream",
     "text": [
      "[1.12517367 1.12517426 1.13817451 ... 1.49765966 1.49765995 1.49766008]\n"
     ]
    }
   ],
   "source": [
    "X_frac=0.76\n",
    "Y_frac=0.24\n",
    "\n",
    "if readFromRamsesOutput:\n",
    "    Np1 = np.array(cells[:,9],dtype='float64') * unit_fp # [phot/s/cm2]\n",
    "    Np2 = np.array(cells[:,10],dtype='float64') * unit_fp # [phot/s/cm2]\n",
    "    Np3 = np.array(cells[:,11],dtype='float64') * unit_fp # [phot/s/cm2]\n",
    "    rho    = np.array(cells[:,0],dtype='float64')\n",
    "    pres   = np.array(cells[:,1],dtype='float64')\n",
    "    xHII   = np.array(cells[:,2],dtype='float64')\n",
    "    xHeII  = np.array(cells[:,3],dtype='float64')\n",
    "    xHeIII = np.array(cells[:,4],dtype='float64')\n",
    "    metallicity = np.array(cells[:,8],dtype='float64')\n",
    "else:\n",
    "    Np1 = np.array(cells_rt[:,0],dtype='float64') * unit_fp # [phot/s/cm2]\n",
    "    Np2 = np.array(cells_rt[:,1],dtype='float64') * unit_fp # [phot/s/cm2]\n",
    "    Np3 = np.array(cells_rt[:,2],dtype='float64') * unit_fp # [phot/s/cm2]\n",
    "    rho    = np.array(cells[:,0],dtype='float64')\n",
    "    pres   = np.array(cells[:,1],dtype='float64')\n",
    "    xHII   = np.array(cells[:,2],dtype='float64')\n",
    "    xHeII  = np.array(cells[:,3],dtype='float64')\n",
    "    xHeIII = np.array(cells[:,4],dtype='float64')\n",
    "    metallicity = np.array(cells[:,8],dtype='float64')\n",
    "\n",
    "# print(rho)\n",
    "nH   = rho * hcat.info['unit_nH']  # [ H / cm3 ]\n",
    "# print(np.max(nH),np.min(nH))\n",
    "# print(nH)\n",
    "nHe  = 0.25*nH*(1.0-X_frac)/X_frac\n",
    "nHII = xHII*nH\n",
    "nHI = nH*(1.0-xHII)\n",
    "n_e  = nHII+nHe*(xHeII+2.*xHeIII)\n",
    "mu   = 1./( X_frac*(1.+xHII) + 0.25*(1.-X_frac)*(1.+xHeII+2.*xHeIII) )\n",
    "TK   = pres/rho*mu*hcat.info['unit_T2']  # [K]\n",
    "# print(X_frac,xHII,xHeII,xHeIII)\n",
    "# print(mu)\n",
    "# print(TK)  "
   ]
  },
  {
   "cell_type": "code",
   "execution_count": 215,
   "metadata": {},
   "outputs": [],
   "source": [
    "# mu   = 1./( X_frac*(1e0 + xHII) + 2.5e-1*(1e0 - X_frac)*(1e0 + xHeII + 2e0*xHeIII) )\n",
    "# print(mu)\n",
    "# print(X_frac)\n",
    "# print(xHII)\n",
    "# print(xHeII)\n",
    "# print(xHeIII)"
   ]
  },
  {
   "cell_type": "code",
   "execution_count": 218,
   "metadata": {},
   "outputs": [
    {
     "name": "stdout",
     "output_type": "stream",
     "text": [
      "[0.5882368  0.58823925 0.58823805 ... 0.58830586 0.58831124 0.58831297]\n"
     ]
    }
   ],
   "source": [
    "mu = np.zeros(nH.size)\n",
    "for i in range(nH.size):\n",
    "    mu[i] = 1./( X_frac*(1e0 + xHII[i]) + 2.5e-1*(1e0 - X_frac)*(1e0 + xHeII[i] + 2e0*xHeIII[i]) )\n",
    "  \n",
    "print(mu)"
   ]
  },
  {
   "cell_type": "code",
   "execution_count": 219,
   "metadata": {},
   "outputs": [
    {
     "name": "stdout",
     "output_type": "stream",
     "text": [
      "[668467.34232531 406468.43329987 490497.22595248 ...  59463.77367037\n",
      "  57255.44963981  56133.33292992]\n"
     ]
    }
   ],
   "source": [
    "TK = np.zeros(nH.size)\n",
    "for i in range(nH.size):\n",
    "    TK[i] = pres[i]/rho[i]*mu[i]*hcat.info['unit_T2']\n",
    "    \n",
    "print(TK)"
   ]
  },
  {
   "cell_type": "code",
   "execution_count": 216,
   "metadata": {},
   "outputs": [],
   "source": [
    "# TK   = (pres/rho) * mu * hcat.info['unit_T2']  # [K]\n",
    "# print(TK)  "
   ]
  },
  {
   "cell_type": "code",
   "execution_count": 217,
   "metadata": {},
   "outputs": [],
   "source": [
    "# a=2e0*3 + 2**1.1\n",
    "# print(a)"
   ]
  },
  {
   "cell_type": "code",
   "execution_count": 221,
   "metadata": {},
   "outputs": [],
   "source": [
    "# renormalisation des Np \n",
    "# Np = \\int J_true / h nu dnu\n",
    "# On veut J = \\int J_true dnu == \\int Jnorm dnu * Np / \\int Jnorm/hnu dnu\n",
    "# -> on doit calculer \\int Jnorm/hnu dnu et \\int Jnorm dnu\n",
    "nu, Fnu = nus[bin1],flux[bin1]  # Jnorm ... \n",
    "J1_nphot = abs(np.trapz(Fnu/(h_cgs*nu), nu))\n",
    "J1_int   = abs(np.trapz(Fnu,nu))\n",
    "J1 = J1_int * Np1 / J1_nphot \n",
    "nu, Fnu = nus[bin2],flux[bin2]  # Jnorm ... \n",
    "J2_nphot = abs(np.trapz(Fnu/(h_cgs*nu), nu))\n",
    "J2_int   = abs(np.trapz(Fnu,nu))\n",
    "J2 = J2_int * Np2 / J2_nphot \n",
    "nu, Fnu = nus[bin3],flux[bin3]  # Jnorm ... \n",
    "J3_nphot = abs(np.trapz(Fnu/(h_cgs*nu), nu))\n",
    "J3_int   = abs(np.trapz(Fnu,nu))\n",
    "J3 = J3_int * Np3 / J3_nphot "
   ]
  },
  {
   "cell_type": "code",
   "execution_count": 371,
   "metadata": {},
   "outputs": [
    {
     "name": "stdout",
     "output_type": "stream",
     "text": [
      "15.245861147179358\n"
     ]
    }
   ],
   "source": [
    "# continu non ionisant \n",
    "# 1/ Normalisation en fonction du continu ionisant... \n",
    "# J0 = \\int Jnorm dnu, avec Jnorm[lmin du bin 0] = 0.1 * Jnorm[lmax du bin 0]\n",
    "nu, Fnu = nus[bin0],flux[bin0]\n",
    "J0_int = abs(np.trapz(Fnu, nu)) \n",
    "Frouge = flux[bin1[-1]] / J1_nphot *Np1\n",
    "Fbleu  = Fnu[0]\n",
    "J0 = J0_int * (Frouge/Fbleu*10.)\n",
    "\n",
    "# 2/ normalisation en supposant un champ de rayonnement uniforme ... \n"
   ]
  },
  {
   "cell_type": "code",
   "execution_count": 223,
   "metadata": {},
   "outputs": [
    {
     "data": {
      "image/png": "[encoded data removed]",
      "text/plain": [
       "<Figure size 432x288 with 1 Axes>"
      ]
     },
     "metadata": {
      "needs_background": "light"
     },
     "output_type": "display_data"
    }
   ],
   "source": [
    "plt.plot(clight/nu*1e8,Fnu) ; plt.yscale('log'); plt.xscale('log')"
   ]
  },
  {
   "cell_type": "markdown",
   "metadata": {},
   "source": [
    "## Ecriture des fichiers cloudy"
   ]
  },
  {
   "cell_type": "code",
   "execution_count": 244,
   "metadata": {},
   "outputs": [],
   "source": [
    "def writeSetup(nH, Z, intensities, temperature, number, directory='./'):     #number is the ID of the cell\n",
    "    CloudyString = ''\n",
    "    CloudyString = CloudyString + 'print off \\n'\n",
    "    CloudyString = CloudyString + 'abundances GASS10 \\n'\n",
    "    CloudyString = CloudyString + 'hden ' + str(np.log10(nH)) + '\\n'\n",
    "    CloudyString = CloudyString + 'element abundance helium -1.103 \\n'\n",
    "    CloudyString = CloudyString + 'metals ' + str(np.log10(Z/0.0134)) + ' log \\n' # The number is the log of the scale factor by which the abundances of all metals are multiplied\n",
    "    CloudyString = CloudyString + 'element limit off '  + str(-5 + np.log10(Z/0.0134)) +' \\n' # So that only  Carbon Nitrogen  Oxygen  Neon  Magnesium  Silicon  Sulphur  Iron       \n",
    "    for i in range(len(intensities)):\n",
    "        CloudyString = CloudyString + 'table SED \"sedCloudy_grp'+str(i)+'.sed\" \\n'\n",
    "        CloudyString = CloudyString + 'intensity linear total ' + str(intensities[i]) + ' \\n'\n",
    "    CloudyString = CloudyString + 'CMB z=3 \\n' \n",
    "    CloudyString = CloudyString + 'const temp ' + str(np.log10(temperature)) + '\\n'\n",
    "    CloudyString = CloudyString + 'sphere \\n'\n",
    "    CloudyString = CloudyString + 'iterate to convergence \\n'\n",
    "    CloudyString = CloudyString + 'stop zone 1 \\n'\n",
    "    CloudyString = CloudyString + 'radius 30 \\n'\n",
    "    CloudyString = CloudyString + 'no molecules \\n'\n",
    "    CloudyString = CloudyString + 'no H2 molecule \\n'\n",
    "    CloudyString = CloudyString + 'no induced processes \\n'\n",
    "    CloudyString = CloudyString + 'save last ionization means file = \"ion'+format(number,\"07\")+'.avr\" \\n'\n",
    "    CloudyString = CloudyString + 'save lines, emissivity, emergent, last, \"lines'+format(number,\"07\")+'.dat\" \\n'\n",
    "    CloudyString = CloudyString + 'H 1 6563A \\n'\n",
    "    CloudyString = CloudyString + 'end of lines \\n'\n",
    "    CloudyString = CloudyString + 'save species populations last iteration \"SiII_pop_'+format(number,\"07\")+'.dat\" \\n'\n",
    "    CloudyString = CloudyString + '\"Si+[1:2]\" \\n'\n",
    "    CloudyString = CloudyString + '\"C+[1:2]\" \\n'\n",
    "    CloudyString = CloudyString + 'end \\n'\n",
    "    CloudyString = CloudyString + 'stop temperature off \\n'\n",
    "    CloudyString = CloudyString + 'set dr 0 \\n'\n",
    "    \n",
    "    CloudyFile = open(directory+'input' + format(number,\"07\") + '.in', 'w')\n",
    "    CloudyFile.write(CloudyString)\n",
    "    CloudyFile.close()\n",
    "\n"
   ]
  },
  {
   "cell_type": "code",
   "execution_count": 228,
   "metadata": {},
   "outputs": [
    {
     "name": "stdout",
     "output_type": "stream",
     "text": [
      "[1.40445808e+25 1.70282394e+25 1.56108771e+25 ... 4.36083775e+36\n",
      " 3.60735704e+36 2.78736833e+36] [4.52080755e+15 5.48121687e+15 5.02498237e+15 ... 1.40370927e+26\n",
      " 1.16117150e+26 8.97225481e+25] [3.10798309e+15 3.82723053e+15 3.47104213e+15 ... 9.91042302e+25\n",
      " 8.18335324e+25 6.29260743e+25] [6.21545834e+23 1.08155249e+24 8.52157584e+23 ... 9.15323237e+12\n",
      " 7.56909936e+12 5.84301074e+12]\n"
     ]
    }
   ],
   "source": [
    "print(J0,J1,J2,J3)"
   ]
  },
  {
   "cell_type": "code",
   "execution_count": 246,
   "metadata": {},
   "outputs": [],
   "source": [
    "for cell in range(10,100000):\n",
    "    if(TK[cell]<20000):\n",
    "# print(TK[cell])\n",
    "        intensities = np.array([J0[cell],J1[cell],J2[cell],J3[cell]])\n",
    "        writeSetup(nH[cell],metallicity[cell],intensities,TK[cell],1)\n",
    "        break"
   ]
  },
  {
   "cell_type": "code",
   "execution_count": 28,
   "metadata": {},
   "outputs": [],
   "source": [
    "# define a class to count runs in nH,T bins so we can control the sampling and measure averages...  \n",
    "class counts(object):\n",
    "    def __init__(self,nH,nbins_nH,TK,nbins_TK):\n",
    "        self.lnHmin = np.log10(nH.min())\n",
    "        self.lnHmax = np.log10(nH.max())\n",
    "        self.nbins_nH = nbins_nH\n",
    "        \n",
    "        self.lTmin = np.log10(TK.min())\n",
    "        self.lTmax = np.log10(TK.max())\n",
    "        self.nbins_TK = nbins_TK\n",
    "\n",
    "        self.c = np.zeros((nbins_nH,nbins_TK))\n",
    "        self.mean_xHI_ratio = np.zeros((nbins_nH,nbins_TK))\n",
    "        self.xHI_cloudy = np.zeros((nbins_nH,nbins_TK))\n",
    "        self.xHI_ramses = np.zeros((nbins_nH,nbins_TK))\n",
    "        \n",
    "    def increment_count(self,nH,TK):\n",
    "        inh,iTK = self.__get_ij__(nH,TK)\n",
    "        self.c[inh,iTK] = self.c[inh,iTK] + 1\n",
    "    \n",
    "    def increment_xHI(self,nH,TK,xHI_cloudy,xHI_ramses):\n",
    "        inh,iTK = self.__get_ij__(nH,TK)\n",
    "        n = self.c[inh,iTK]\n",
    "        if n > 1:\n",
    "            self.xHI_cloudy[inh,iTK] = (self.xHI_cloudy[inh,iTK]*(n-1)+xHI_cloudy)/n\n",
    "            self.xHI_ramses[inh,iTK] = (self.xHI_ramses[inh,iTK]*(n-1)+xHI_ramses)/n\n",
    "            self.mean_xHI_ratio[inh,iTK] = (self.mean_xHI_ratio[inh,iTK]*(n-1) + xHI_cloudy / xHI)/n\n",
    "        else:\n",
    "            self.xHI_cloudy[inh,iTK] = xHI_cloudy\n",
    "            self.xHI_ramses[inh,iTK] = xHI_ramses\n",
    "            self.mean_xHI_ratio[inh,iTK] = xHI_cloudy / xHI\n",
    "        \n",
    "    def get_count(self,nH,TK):\n",
    "        inh,iTK = self.__get_ij__(nH,TK)\n",
    "        return self.c[inh,iTK]\n",
    "    \n",
    "    def plot_count(self,cb=True):\n",
    "        plt.imshow(self.c,origin='lower',extent=(self.lnHmin,self.lnHmax,self.lTmin,self.lTmax))\n",
    "        plt.xlabel(r'$n_H \\ [{\\rm cm/s}]$',fontsize=15)\n",
    "        plt.ylabel(r'$T \\ [K]$',fontsize=15)\n",
    "        if cb:\n",
    "            plt.colorbar()\n",
    "    \n",
    "    def plot_xHI_ratio(self,cb=True):\n",
    "        plt.imshow(self.mean_xHI_ratio,origin='lower',extent=(self.lnHmin,self.lnHmax,self.lTmin,self.lTmax),\n",
    "                   norm=LogNorm(),vmin=1e-2,vmax=1e2,cmap=plt.cm.get_cmap('jet', 40))#'Paired')\n",
    "        plt.xlabel(r'$n_H \\ [{\\rm cm/s}]$',fontsize=15)\n",
    "        plt.ylabel(r'$T \\ [K]$',fontsize=15)\n",
    "        if cb:\n",
    "            cbar = plt.colorbar()\n",
    "            cbar.set_label(r'$x_{\\rm HI}({\\rm cloudy}) / x_{\\rm HI}({\\rm ramses})$',fontsize=15)\n",
    "\n",
    "    def plot_xHI(self,cb=True,model='cloudy'):\n",
    "        if model == 'cloudy':\n",
    "            xHI = self.xHI_cloudy\n",
    "        elif model == 'ramses':\n",
    "            xHI = self.xHI_ramses\n",
    "        else:\n",
    "            die\n",
    "            \n",
    "        plt.imshow(xHI,origin='lower',extent=(self.lnHmin,self.lnHmax,self.lTmin,self.lTmax),\n",
    "                   norm=LogNorm(),vmin=1e-6,vmax=1e0,cmap=plt.cm.get_cmap('jet', 40))#'Paired')\n",
    "        plt.xlabel(r'$n_H \\ [{\\rm cm/s}]$',fontsize=15)\n",
    "        plt.ylabel(r'$T \\ [K]$',fontsize=15)\n",
    "        if cb:\n",
    "            cbar = plt.colorbar()\n",
    "            cbar.set_label(r'$x_{\\rm HI}({\\rm %s})$'%model,fontsize=15)\n",
    "    \n",
    "    def __get_ij__(self,nH,TK):\n",
    "        lnh = np.log10(nH)\n",
    "        inh = int((lnh - self.lnHmin)/(self.lnHmin-self.lnHmax)*self.nbins_nH)\n",
    "        lTK = np.log10(TK)\n",
    "        iTK = int((lTK - self.lTmin)/(self.lTmin-self.lTmax)*self.nbins_TK)\n",
    "        return inh,iTK"
   ]
  },
  {
   "cell_type": "code",
   "execution_count": null,
   "metadata": {
    "scrolled": false
   },
   "outputs": [],
   "source": [
    "# pour chaque cellule, on lance CLOUDY \n",
    "i = 0\n",
    "cellCount = counts(nH,100,TK,100)\n",
    "f = open('a_lancer','w')\n",
    "for cnH, cZ, cT, cJ0, cJ1, cJ2, cJ3, cnHI, cnHII in zip(nH,metallicity,TK,J0,J1,J2,J3,nHI,nHII):\n",
    "    xHI = cnHI/cnH \n",
    "    i = i + 1\n",
    "    condition = (cellCount.get_count(cnH,cT) <= 10)  # no more than some runs per bin\n",
    "    ionFile = 'runs/input%7.7iion%7.7i.avr'%(i,i)\n",
    "    if condition:\n",
    "        cellCount.increment_count(cnH,cT)\n",
    "        if not os.path.exists(ionFile):\n",
    "            #writeSetup(cnH, cZ, np.array((cJ0,cJ1,cJ2,cJ3)), cT, i, directory='runs/')\n",
    "            #cmd = \"cd runs; /Users/blaizot/Documents/Astro/Dev/c17.01/source/cloudy.exe input%7.7i.in\"%(i)\n",
    "            cmd = \"cd runs; /home/blaizot/c17.01/source/cloudy.exe input%7.7i.in\"%(i)\n",
    "            f.write(\"%s \\n\"%(cmd))\n",
    "            #os.system(cmd)\n",
    "f.close()    \n",
    "\n"
   ]
  },
  {
   "cell_type": "code",
   "execution_count": null,
   "metadata": {},
   "outputs": [],
   "source": [
    "# analyse des résultats \n",
    "i = 0\n",
    "cellCount = counts(nH,100,TK,100)\n",
    "for cnH, cZ, cT, cJ0, cJ1, cJ2, cJ3, cnHI, cnHII in zip(nH,metallicity,TK,J0,J1,J2,J3,nHI,nHII):\n",
    "    xHI = cnHI/cnH \n",
    "    i = i + 1\n",
    "    ionFile = 'runs/input%7.7iion%7.7i.avr'%(i,i)\n",
    "    if os.path.exists(ionFile):\n",
    "        cellCount.increment_count(cnH,cT)\n",
    "        f = open(ionFile,'r')\n",
    "        lines = f.readlines()\n",
    "        for l in lines:\n",
    "            if 'Hydrogen' in l:\n",
    "                xHI_Cloudy = float(l[11:18])\n",
    "                break\n",
    "        f.close()\n",
    "        cellCount.increment_xHI(cnH,cT,10.**xHI_Cloudy,xHI)\n",
    "        \n"
   ]
  },
  {
   "cell_type": "code",
   "execution_count": null,
   "metadata": {},
   "outputs": [],
   "source": [
    "plt.figure(figsize=(12,8))\n",
    "cellCount.plot_xHI_ratio()\n",
    "plt.savefig('xHI_ratio.pdf')\n",
    "plt.figure(figsize=(12,8))\n",
    "cellCount.plot_xHI()\n",
    "plt.savefig('xHI_cloudy.pdf')\n",
    "plt.figure(figsize=(12,8))\n",
    "cellCount.plot_xHI(model='ramses')\n",
    "plt.savefig('xHI_ramses.pdf')\n",
    "\n"
   ]
  },
  {
   "cell_type": "markdown",
   "metadata": {},
   "source": [
    "## La partie machine learning ... \n",
    "\n"
   ]
  },
  {
   "cell_type": "code",
   "execution_count": null,
   "metadata": {},
   "outputs": [],
   "source": []
  },
  {
   "cell_type": "code",
   "execution_count": null,
   "metadata": {},
   "outputs": [],
   "source": []
  },
  {
   "cell_type": "code",
   "execution_count": null,
   "metadata": {},
   "outputs": [],
   "source": []
  },
  {
   "cell_type": "code",
   "execution_count": null,
   "metadata": {},
   "outputs": [],
   "source": []
  }
 ],
 "metadata": {
  "kernelspec": {
   "display_name": "Python 3",
   "language": "python",
   "name": "python3"
  },
  "language_info": {
   "codemirror_mode": {
    "name": "ipython",
    "version": 3
   },
   "file_extension": ".py",
   "mimetype": "text/x-python",
   "name": "python",
   "nbconvert_exporter": "python",
   "pygments_lexer": "ipython3",
   "version": "3.7.1"
  }
 },
 "nbformat": 4,
 "nbformat_minor": 2
}
