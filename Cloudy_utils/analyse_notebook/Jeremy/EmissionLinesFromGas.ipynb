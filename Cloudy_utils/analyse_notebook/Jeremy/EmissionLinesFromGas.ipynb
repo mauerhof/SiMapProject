{
 "cells": [
  {
   "cell_type": "code",
   "execution_count": 2,
   "metadata": {},
   "outputs": [],
   "source": [
    "# import minirats \n",
    "from minirats.HaloFinder.py.haloCatalog import haloCatalog as hC\n",
    "from minirats.utils.py.cellutils import py_cell_utils as cu\n",
    "from minirats.utils.py.f90utils import star_utils as SU\n",
    "\n",
    "# other imports \n",
    "import numpy as np\n",
    "import matplotlib.pyplot as plt\n",
    "from matplotlib.colors import LogNorm\n",
    "from scipy.io import FortranFile\n",
    "import h5py, os\n",
    "\n",
    "# constants \n",
    "h_cgs     = 6.6260755e-27  # [erg s]\n",
    "clight    = 2.99792458e10  # [cm/s]\n",
    "erg2Ryd   = 1. / 2.17987e-11 "
   ]
  },
  {
   "cell_type": "code",
   "execution_count": 3,
   "metadata": {},
   "outputs": [],
   "source": [
    "vect = np.array([2.1e-5,3.5e-6,1.1e-5]*1000000,dtype='float64')\n",
    "a = 2.19823"
   ]
  },
  {
   "cell_type": "code",
   "execution_count": 4,
   "metadata": {},
   "outputs": [
    {
     "name": "stdout",
     "output_type": "stream",
     "text": [
      "[6.7162830e-05 1.1193805e-05 3.5180530e-05 ... 6.7162830e-05 1.1193805e-05\n",
      " 3.5180530e-05]\n"
     ]
    }
   ],
   "source": [
    "b = vect*(1+a)\n",
    "print(b)"
   ]
  },
  {
   "cell_type": "code",
   "execution_count": 5,
   "metadata": {},
   "outputs": [],
   "source": [
    "#CHANGEMENT!!!!!!!!!!!!!!!!!!!!\n",
    "# Function taken fron ramses utils, by Trebitsch & Rosdahl.\n",
    "def readRamsesSEDs(sedDir):\n",
    "    \"\"\"Read SED in ramses format and return\n",
    "    Parameters:\n",
    "    ----------------------------------------------------------------------\n",
    "    sedDir: Directory containing the SED tables\n",
    "    \"\"\"\n",
    "    # Read metallicity bins\n",
    "    ZFile = open(sedDir+'/metallicity_bins.dat', 'r')\n",
    "    nZ = eval(ZFile.readline())\n",
    "    ZBins = []\n",
    "    for Z in range(0,nZ): ZBins.append(eval(ZFile.readline()))\n",
    "    ZFile.close()\n",
    "\n",
    "    # Read age bins\n",
    "    ageFile = open(sedDir+'/age_bins.dat', 'r')\n",
    "    nAge = eval(ageFile.readline())\n",
    "    ageBins = []\n",
    "    for age in range(0,nAge): ageBins.append(eval(ageFile.readline()))\n",
    "    ageFile.close()\n",
    "\n",
    "    # Read wavelength bins and spectra\n",
    "    # spectra are in [Lsun / A / Msun]\n",
    "    # with Lsun = 3.826e33 erg/s and Msun = 2e33g\n",
    "    sedFile = FortranFile(sedDir+'/all_seds.dat','r')\n",
    "    nLambda = sedFile.read_ints()[0]\n",
    "    lambdaBins = sedFile.read_reals()\n",
    "    spectra = np.empty([nLambda,nAge,nZ])\n",
    "    for iZ in range(0,nZ):\n",
    "        for iAge in range(0,nAge):\n",
    "            spectrum = sedFile.read_reals()\n",
    "            spectra[:,iAge,iZ] = spectrum  \n",
    "\n",
    "    Lsun_cgs = 3.826e33\n",
    "    Msun_cgs = 2e33\n",
    "    return {'ZBins':ZBins, 'ageBins':ageBins, 'lambdaBins':lambdaBins,'spectra':spectra,'Lsun_cgs':Lsun_cgs,'Msun_cgs':Msun_cgs}\n",
    "\n",
    "def get_iage_iZ(Z,age,Zbins,agebins):\n",
    "    # interpolation weigths in Z \n",
    "    if Z <= Zbins[0]:\n",
    "        iz1 = 0\n",
    "        wz1 = 1.0 # full weight to iz1 (and zero to iz1+1)\n",
    "    elif Z >= Zbins[-1]:\n",
    "        iz1 = len(Zbins)-2\n",
    "        wz1 = 0.0 # no weight to iz1 (and full weight to iz1+1)\n",
    "    else:\n",
    "        iz1 = 0\n",
    "        while (Z >= Zbins[iz1+1]):\n",
    "            iz1 = iz1 + 1\n",
    "        # Z is between Zbins[iz1] and Zbins[iz1+1]\n",
    "        wz1 = (Zbins[iz1+1] - Z) / (Zbins[iz1+1]-Zbins[iz1])\n",
    "    # interpolation weights in age\n",
    "    if age <= agebins[0]:\n",
    "        ia1 = 0\n",
    "        wa1 = 1.0 # full weight to ia1 (and zero to ia1+1)\n",
    "    elif age >= agebins[-1]:\n",
    "        ia1 = len(agebins)-2\n",
    "        wa1 = 0.0 # no weight to ia1 (and full weight to ia1+1)\n",
    "    else:\n",
    "        ia1 = 0\n",
    "        while (age >= agebins[ia1+1]):\n",
    "            ia1 = ia1 + 1\n",
    "        # age is between agebins[ia1-1] and agebins[ia1]\n",
    "        wa1 = (agebins[ia1+1] - age)/(agebins[ia1+1]-agebins[ia1])\n",
    "    return iz1,wz1,ia1,wa1\n",
    "\n",
    "\n",
    "def h5_read_stars(filename):\n",
    "    f = h5py.File(filename,'r')\n",
    "    star_mass = f['star_mass'][:]\n",
    "    star_x = f['star_x'][:]\n",
    "    star_y = f['star_y'][:]\n",
    "    star_z = f['star_z'][:]\n",
    "    star_id = f['star_id'][:]\n",
    "    star_age = f['star_age'][:]\n",
    "    star_vx = f['star_vx'][:]\n",
    "    star_vy = f['star_vy'][:]\n",
    "    star_vz = f['star_vz'][:]\n",
    "    star_mets = f['star_mets'][:]\n",
    "    star_minit = f['star_minit'][:]\n",
    "    f.close()\n",
    "    return star_mass,star_x,star_y,star_z,star_id,star_age,star_vx,star_vy,star_vz,star_mets,star_minit\n",
    "\n",
    "def h5_read_cells(filename):\n",
    "    f = h5py.File(filename,'r')\n",
    "    cells = f[\"cells\"][:,:]\n",
    "    if 'rt' not in filename:\n",
    "        cell_pos = f[\"cell_pos\"][:,:]\n",
    "        cell_l = f[\"cell_l\"][:]\n",
    "        f.close()\n",
    "        return cells,cell_pos,cell_l\n",
    "    else:\n",
    "        f.close()\n",
    "        return cells\n"
   ]
  },
  {
   "cell_type": "code",
   "execution_count": 6,
   "metadata": {},
   "outputs": [],
   "source": [
    "# define a halo catalog object\n",
    "RamsesDir = '/Users/mauerhof/Documents/RamsesFiles/SIMULATIONS/P13-20h-1Mpc-MUSIC/Zoom-7-10508/SPHINX_run/' #'/scratch/blaizot/sphinx/05_F1000/02_IC20_BP/'\n",
    "timestep  = 137  # 183\n",
    "#RamsesDir = '/Users/blaizot/Documents/Astro/SIMULATIONS/P13-20h-1Mpc-MUSIC/Zoom-7-10508/SPHINX_run/' #'/scratch/blaizot/sphinx/05_F1000/02_IC20_BP/'\n",
    "#timestep  = 30 #148  # 183\n",
    "readFromRamsesOutput = False \n",
    "\n",
    "hcat = hC(RamsesDir,timestep,HaloDir='Halos/',zoom=True)\n"
   ]
  },
  {
   "cell_type": "code",
   "execution_count": 7,
   "metadata": {},
   "outputs": [],
   "source": [
    "# load the halo catalog \n",
    "hcat.load_catalog()\n",
    "hcat.convert_distances() # convert positions and sizes to code units (store in xxxx_cu variables)"
   ]
  },
  {
   "cell_type": "code",
   "execution_count": 8,
   "metadata": {},
   "outputs": [],
   "source": [
    "# select a halo \n",
    "hmain = np.where((hcat.level==1) &(hcat.contam < 0.5) &(hcat.mvir > 4e7*1e-11))[0]\n",
    "myhalo = hmain[np.where(hcat.mvir[hmain]==max(hcat.mvir[hmain]))[0][0]]\n",
    "center = [hcat.x_cu[myhalo],hcat.y_cu[myhalo],hcat.z_cu[myhalo]]\n",
    "radius = 1.2*hcat.rvir_cu[myhalo]\n"
   ]
  },
  {
   "cell_type": "markdown",
   "metadata": {},
   "source": [
    "## Definition de la forme spectrale dans chaque bin\n",
    "On utilise le spectre de l'ensemble des étoiles du halo "
   ]
  },
  {
   "cell_type": "code",
   "execution_count": 9,
   "metadata": {},
   "outputs": [
    {
     "data": {
      "text/plain": [
       "dict_keys(['ZBins', 'ageBins', 'lambdaBins', 'spectra', 'Lsun_cgs', 'Msun_cgs'])"
      ]
     },
     "execution_count": 9,
     "metadata": {},
     "output_type": "execute_result"
    }
   ],
   "source": [
    "# Read SSP spectra from sedDir \n",
    "ssp = readRamsesSEDs('/Users/mauerhof/Documents/seds/bpass100/')\n",
    "ssp.keys()"
   ]
  },
  {
   "cell_type": "code",
   "execution_count": 10,
   "metadata": {},
   "outputs": [],
   "source": [
    "#CHANGEMENT !!!!!!!!!!!!!\n",
    "# read the star particles ... \n",
    "if readFromRamsesOutput:\n",
    "    nstars = SU.get_tot_nstars(RamsesDir,timestep)   # get nb of star particles in the output\n",
    "    star_mass,star_x,star_y,star_z,star_id,star_age,star_vx,star_vy,star_vz,star_mets,star_minit = SU.read_stars_all_props(RamsesDir,timestep,nstars,True,age_conv=True)\n",
    "else:\n",
    "    h5CellFile = '%s/Halos/%5.5i/stars.h5'%(RamsesDir,timestep)\n",
    "    star_mass,star_x,star_y,star_z,star_id,star_age,star_vx,star_vy,star_vz,star_mets,star_minit = h5_read_stars(h5CellFile)\n"
   ]
  },
  {
   "cell_type": "code",
   "execution_count": 11,
   "metadata": {},
   "outputs": [],
   "source": [
    "# select star particles in the halo \n",
    "d2 = (star_x-center[0])**2 + (star_y-center[1])**2 + (star_z-center[2])**2\n",
    "ii = np.where(d2 < radius*radius)[0]\n",
    "star_mass,star_x,star_y,star_z,star_id,star_age,star_vx,star_vy,star_vz,star_mets,star_minit = \\\n",
    "    star_mass[ii],star_x[ii],star_y[ii],star_z[ii],star_id[ii],star_age[ii],star_vx[ii],\\\n",
    "    star_vy[ii],star_vz[ii],star_mets[ii],star_minit[ii]\n",
    "# convert ages to yr \n",
    "star_age = star_age * 1e6 # [yr]\n",
    "# convert mass to Msun \n",
    "star_minit = star_minit * (hcat.info['unit_d'] * hcat.info['unit_l']**3 / ssp['Msun_cgs'])  # [Msun]"
   ]
  },
  {
   "cell_type": "code",
   "execution_count": 12,
   "metadata": {
    "scrolled": false
   },
   "outputs": [],
   "source": [
    "#CHANGEMENT!!!!!!!!!!!!!!!!!!!!\n",
    "# compute weight of each SED in the full spectrum \n",
    "weights = np.zeros((len(ssp['ZBins']),len(ssp['ageBins'])))\n",
    "for age,Z,m in zip(star_age,star_mets,star_minit):\n",
    "    iz,wz,ia,wa        = get_iage_iZ(Z,age,ssp['ZBins'],ssp['ageBins'])\n",
    "    weights[iz,ia]     = weights[iz,ia]     + wz*wa * m\n",
    "    weights[iz+1,ia]   = weights[iz+1,ia]   + (1-wz)*wa * m\n",
    "    weights[iz,ia+1]   = weights[iz,ia+1]   + wz*(1-wa) * m\n",
    "    weights[iz+1,ia+1] = weights[iz+1,ia+1] + (1-wz)*(1-wa) * m\n"
   ]
  },
  {
   "cell_type": "code",
   "execution_count": 13,
   "metadata": {},
   "outputs": [],
   "source": [
    "# compute the full spectrum \n",
    "flux = np.zeros((len(ssp['lambdaBins'])))\n",
    "for ia in range(len(ssp['ageBins'])):\n",
    "    for iz in range(len(ssp['ZBins'])):\n",
    "        flux = flux + ssp['spectra'][:,ia,iz] * weights[iz,ia]\n",
    "flux = flux * ssp['Lsun_cgs'] # [erg/s/A]\n",
    "flux = flux * ssp['lambdaBins'] * (ssp['lambdaBins']*1e-8) / clight # [erg/s/Hz]\n",
    "ryds = h_cgs * clight / (ssp['lambdaBins']*1e-8) * erg2Ryd  # energy in Rydberg \n",
    "nus  = clight / (ssp['lambdaBins']*1e-8) # [Hz]\n"
   ]
  },
  {
   "cell_type": "code",
   "execution_count": 27,
   "metadata": {},
   "outputs": [
    {
     "data": {
      "text/plain": [
       "[<matplotlib.lines.Line2D at 0xb2faab7b8>]"
      ]
     },
     "execution_count": 27,
     "metadata": {},
     "output_type": "execute_result"
    },
    {
     "data": {
      "image/png": "[encoded data removed]",
      "text/plain": [
       "<Figure size 432x288 with 1 Axes>"
      ]
     },
     "metadata": {
      "needs_background": "light"
     },
     "output_type": "display_data"
    }
   ],
   "source": [
    "import matplotlib.pyplot as plt\n",
    "# plt.plot(ryds, flux)\n",
    "# plt.xlabel(r'$E$ [ryd]')\n",
    "lambdas = clight/nus*1e8\n",
    "nuFnu = flux*nus\n",
    "lambdas_1260 = lambdas[(lambdas<1270)&(lambdas>1255)]\n",
    "nuFnu_1260 = nuFnu[(lambdas<1270)&(lambdas>1255)]\n",
    "flux_1260 = flux[(lambdas<1270)&(lambdas>1255)]\n",
    "# plt.plot(lambdas,nuFnu)\n",
    "plt.plot(lambdas_1260,flux_1260)\n",
    "# plt.xlabel(r'$\\lambda$ [A]')\n",
    "# plt.yscale('log'); #plt.xscale('log')\n"
   ]
  },
  {
   "cell_type": "code",
   "execution_count": null,
   "metadata": {},
   "outputs": [],
   "source": []
  },
  {
   "cell_type": "code",
   "execution_count": 34,
   "metadata": {},
   "outputs": [],
   "source": [
    "# premier bin d'energie (<13.6eV == 1Ryd), etc\n",
    "bin0 = np.where(ryds  <= 0.999469)[0]\n",
    "f = open('runs/sedCloudy_grp0.sed','w')\n",
    "for x,y in zip(reversed(ryds[bin0]),reversed(flux[bin0])):\n",
    "    f.write(\"%.16e %.16e \\n\"%(x,y))\n",
    "f.close()\n",
    "bin1 = np.where((ryds > 0.999469)&(ryds<=1.807))[0]\n",
    "f = open('runs/sedCloudy_grp1.sed','w')\n",
    "for x,y in zip(reversed(ryds[bin1]),reversed(flux[bin1])):\n",
    "    f.write(\"%.16e %.16e \\n\"%(x,y))\n",
    "f.close()\n",
    "bin2 = np.where((ryds > 1.807)   &(ryds<=3.9996))[0]\n",
    "f = open('runs/sedCloudy_grp2.sed','w')\n",
    "for x,y in zip(reversed(ryds[bin2]),reversed(flux[bin2])):\n",
    "    f.write(\"%.16e %.16e \\n\"%(x,y))\n",
    "f.close()\n",
    "bin3 = np.where(ryds  > 3.9996)[0]\n",
    "f = open('runs/sedCloudy_grp3.sed','w')\n",
    "for x,y in zip(reversed(ryds[bin3]),reversed(flux[bin3])):\n",
    "    f.write(\"%.16e %.16e \\n\"%(x,y))\n",
    "f.close()\n"
   ]
  },
  {
   "cell_type": "markdown",
   "metadata": {},
   "source": [
    "## normalisation des intensités à partir de l'output RAMSES \n",
    "- lire les cellules pour récupérer leurs propriétés _et_ le rayonnement \n",
    "- convertir Nphot [#/s/cm2] en L [erg/s/cm2]\n",
    "- Mettre [nH, Z, J1, J2, J3, J4, T] dans un fichier d'input pour Cloudy\n"
   ]
  },
  {
   "cell_type": "code",
   "execution_count": 35,
   "metadata": {},
   "outputs": [],
   "source": [
    "# read cells\n",
    "if readFromRamsesOutput:\n",
    "    lmax = -1 # read all levels \n",
    "    ncells = cu.count_cells(RamsesDir,timestep,lmax,center,radius)\n",
    "    idens   = 1\n",
    "    ivx,ivy,ivz=2,3,4\n",
    "    ipre    = 5\n",
    "    imet    = 6\n",
    "    ixhii   = 7\n",
    "    ixheii  = 8\n",
    "    ixheiii = 9\n",
    "    # RT fields\n",
    "    iNp1,iNp2,iNp3 = 11,15,19\n",
    "    readRT=True\n",
    "    cells,cell_pos,cell_l = cu.read_cells_hydro(RamsesDir,timestep,lmax,ncells,\n",
    "                                                              [idens,ipre,ixhii,ixheii,ixheiii,\n",
    "                                                               ivx,ivy,ivz,imet,iNp1,iNp2,iNp3],\n",
    "                                                              center,radius,readRT)\n",
    "else:\n",
    "    h5CellFile = '%s/Halos/%5.5i/cells.h5'%(RamsesDir,timestep)\n",
    "    cells,cell_pos,cell_l = h5_read_cells(h5CellFile)\n",
    "    h5CellFile = '%s/Halos/%5.5i/cells_rt.h5'%(RamsesDir,timestep)\n",
    "    cells_rt = h5_read_cells(h5CellFile)\n"
   ]
  },
  {
   "cell_type": "code",
   "execution_count": 36,
   "metadata": {},
   "outputs": [],
   "source": [
    "# get units for photons \n",
    "filename = \"%s/output_%5.5i/info_rt_%5.5i.txt\"%(RamsesDir,timestep,timestep)\n",
    "f = open(filename,'r')\n",
    "ls = f.readlines()\n",
    "for i,l in enumerate(ls):\n",
    "    if 'unit_pf' in l:\n",
    "        unit_fp = float(l.split()[2])\n",
    "    if 'Group 1' in l:\n",
    "        csn1 = float(ls[i+2].split()[3])\n",
    "    if 'Group 2' in l:\n",
    "        csn2 = float(ls[i+2].split()[3])\n",
    "    if 'Group 3' in l:\n",
    "        csn3 = float(ls[i+2].split()[3])\n",
    "f.close()\n"
   ]
  },
  {
   "cell_type": "code",
   "execution_count": 66,
   "metadata": {},
   "outputs": [],
   "source": [
    "X_frac=0.76\n",
    "Y_frac=0.24\n",
    "\n",
    "if readFromRamsesOutput:\n",
    "    Np1 = np.array(cells[:,9],dtype='float64') * unit_fp # [phot/s/cm2]\n",
    "    Np2 = np.array(cells[:,10],dtype='float64') * unit_fp # [phot/s/cm2]\n",
    "    Np3 = np.array(cells[:,11],dtype='float64') * unit_fp # [phot/s/cm2]\n",
    "    rho    = np.array(cells[:,0],dtype='float64')\n",
    "    pres   = np.array(cells[:,1],dtype='float64')\n",
    "    xHII   = np.array(cells[:,2],dtype='float64')\n",
    "    xHeII  = np.array(cells[:,3],dtype='float64')\n",
    "    xHeIII = np.array(cells[:,4],dtype='float64')\n",
    "    metallicity = np.array(cells[:,8],dtype='float64')\n",
    "else:\n",
    "    Np1 = np.array(cells_rt[:,0],dtype='float64') \n",
    "    Np1 = Np1 * unit_fp # [phot/s/cm2]\n",
    "    Np2 = np.array(cells_rt[:,1],dtype='float64') \n",
    "    Np2 = Np2 * unit_fp # [phot/s/cm2]\n",
    "    Np3 = np.array(cells_rt[:,2],dtype='float64') \n",
    "    Np3 = Np3 * unit_fp # [phot/s/cm2]\n",
    "    rho    = np.array(cells[:,0],dtype='float64')\n",
    "    pres   = np.array(cells[:,1],dtype='float64')\n",
    "    xHII   = cells[:,2]#,dtype='float64')\n",
    "    xHeII  = np.array(cells[:,3],dtype='float64')\n",
    "    xHeIII = np.array(cells[:,4],dtype='float64')\n",
    "    metallicity = np.array(cells[:,8],dtype='float64')\n",
    "\n",
    "    \n",
    "# nH   = rho * hcat.info['unit_nH']  # [ H / cm3 ]\n",
    "# nHe  = 0.25*nH*(1.0-X_frac)/X_frac\n",
    "# nHII = xHII*nH\n",
    "# xHI  = 1.0 - xHII\n",
    "# nHI  = nH*xHI \n",
    "mu   = np.divide(1,X_frac*(1.+xHII) + 0.25*(1.-X_frac)*(1.+xHeII+2.*xHeIII))\n",
    "# mu   = 1./( X_frac*(1.+xHII) + 0.25*(1.-X_frac)*(1.+xHeII+2.*xHeIII) )\n",
    "TK   = np.multiply( np.multiply( np.divide(pres,rho), mu), hcat.info['unit_T2'])  # [K]\n",
    "    \n",
    "# cell volume \n",
    "# cell_size_cm = 1./ 2.**cell_l * hcat.info['unit_l']\n",
    "# cell_volume_cgs = cell_size_cm**3"
   ]
  },
  {
   "cell_type": "code",
   "execution_count": 38,
   "metadata": {},
   "outputs": [
    {
     "name": "stdout",
     "output_type": "stream",
     "text": [
      "10176572\n"
     ]
    }
   ],
   "source": [
    "print(xHII.size)"
   ]
  },
  {
   "cell_type": "code",
   "execution_count": 55,
   "metadata": {},
   "outputs": [
    {
     "name": "stdout",
     "output_type": "stream",
     "text": [
      "float64\n",
      "[0.66724348 0.66724344 0.66724346 ... 0.66724311 0.66724307 0.66724305]\n"
     ]
    }
   ],
   "source": [
    "a = X_frac*(1+xHII)\n",
    "print(a.dtype)\n",
    "# print(X_frac.dtype)\n",
    "print(a)"
   ]
  },
  {
   "cell_type": "code",
   "execution_count": 67,
   "metadata": {},
   "outputs": [
    {
     "name": "stdout",
     "output_type": "stream",
     "text": [
      "[1289607.50502624  784156.07275514  946265.61710797 ...  151377.88260973\n",
      "  145754.81213939  142897.83801238]\n"
     ]
    }
   ],
   "source": [
    "print(TK)"
   ]
  },
  {
   "cell_type": "code",
   "execution_count": 77,
   "metadata": {},
   "outputs": [
    {
     "name": "stdout",
     "output_type": "stream",
     "text": [
      "72125851776.4272\n",
      "[4.77102944e-07 5.78459639e-07 5.30310980e-07 ... 2.05391416e-07\n",
      " 1.69903173e-07 1.31282464e-07]\n",
      "[34411.45621888 41721.89419618 38249.13116744 ... 14814.03079824\n",
      " 12254.41104623  9468.85956847]\n",
      "[34411.45621888 41721.89419618 38249.13116744 ... 14814.03079824\n",
      " 12254.41104623  9468.85956847]\n"
     ]
    }
   ],
   "source": [
    "print(unit_fp)\n",
    "print(np.array(cells_rt[:,0],dtype='float64'))\n",
    "a=np.array(cells_rt[:,0],dtype='float64')\n",
    "b=a*unit_fp\n",
    "print(b)\n",
    "print(Np1)"
   ]
  },
  {
   "cell_type": "code",
   "execution_count": 73,
   "metadata": {},
   "outputs": [
    {
     "name": "stdout",
     "output_type": "stream",
     "text": [
      "[34411.45621888 41721.89419618 38249.13116744 ... 14814.03079824\n",
      " 12254.41104623  9468.85956847]\n",
      "3.1011764912737043e-40 479460356111.72845\n"
     ]
    }
   ],
   "source": [
    "print(Np1)\n",
    "print(np.min(Np1),np.max(Np1))"
   ]
  },
  {
   "cell_type": "code",
   "execution_count": null,
   "metadata": {},
   "outputs": [],
   "source": [
    "mu = np.zeros(nH.size)\n",
    "TK = np.zeros(nH.size)\n",
    "for i in range(nH.size):\n",
    "    mu[i] = 1./( X_frac*(1.+xHII[i]) + 0.25*(1.-X_frac)*(1.+xHeII[i]+2.*xHeIII[i]) )\n",
    "    TK[i] = pres[i]/rho[i]*mu[i]*hcat.info['unit_T2']  # [K]"
   ]
  },
  {
   "cell_type": "code",
   "execution_count": 36,
   "metadata": {},
   "outputs": [],
   "source": [
    "# renormalisation des Np \n",
    "# Np = \\int J_true / h nu dnu\n",
    "# On veut J = \\int J_true dnu == \\int Jnorm dnu * Np / \\int Jnorm/hnu dnu\n",
    "# -> on doit calculer \\int Jnorm/hnu dnu et \\int Jnorm dnu\n",
    "nu, Fnu = nus[bin1],flux[bin1]  # Jnorm ... \n",
    "J1_nphot = abs(np.trapz(Fnu/(h_cgs*nu), nu))\n",
    "J1_int   = abs(np.trapz(Fnu,nu))\n",
    "J1 = J1_int * Np1 / J1_nphot \n",
    "nu, Fnu = nus[bin2],flux[bin2]  # Jnorm ... \n",
    "J2_nphot = abs(np.trapz(Fnu/(h_cgs*nu), nu))\n",
    "J2_int   = abs(np.trapz(Fnu,nu))\n",
    "J2 = J2_int * Np2 / J2_nphot \n",
    "nu, Fnu = nus[bin3],flux[bin3]  # Jnorm ... \n",
    "J3_nphot = abs(np.trapz(Fnu/(h_cgs*nu), nu))\n",
    "J3_int   = abs(np.trapz(Fnu,nu))\n",
    "J3 = J3_int * Np3 / J3_nphot "
   ]
  },
  {
   "cell_type": "code",
   "execution_count": 42,
   "metadata": {},
   "outputs": [],
   "source": [
    "# DEVRAIT CHANGER ??\n",
    "# continu non ionisant \n",
    "# 1/ Normalisation en fonction du continu ionisant... \n",
    "# J0 = \\int Jnorm dnu, avec Jnorm[lmin du bin 0] = 0.1 * Jnorm[lmax du bin 0]\n",
    "nu, Fnu = nus[bin0],flux[bin0]\n",
    "J0_int = abs(np.trapz(Fnu, nu)) \n",
    "Frouge = flux[bin1[-1]] / J1_nphot *Np1\n",
    "Fbleu  = Fnu[0]\n",
    "# J0 = J0_int * (Frouge/Fbleu*10.)\n",
    "J0 = np.zeros(nH.size)\n",
    "for i in range(nH.size):\n",
    "    J0[i] = J0_int * (Frouge[i]/Fbleu*10.)\n",
    "# 2/ normalisation en supposant un champ de rayonnement uniforme ... \n"
   ]
  },
  {
   "cell_type": "code",
   "execution_count": 43,
   "metadata": {},
   "outputs": [
    {
     "name": "stdout",
     "output_type": "stream",
     "text": [
      "[1.89021413e+17 2.29177496e+17 2.10101681e+17 ... 5.86910868e+27\n",
      " 4.85502368e+27 3.75142773e+27]\n"
     ]
    }
   ],
   "source": [
    "print(J0)"
   ]
  },
  {
   "cell_type": "code",
   "execution_count": 18,
   "metadata": {},
   "outputs": [
    {
     "data": {
      "image/png": "[encoded data removed]",
      "text/plain": [
       "<Figure size 432x288 with 1 Axes>"
      ]
     },
     "metadata": {
      "needs_background": "light"
     },
     "output_type": "display_data"
    }
   ],
   "source": [
    "plt.plot(clight/nu*1e8,Fnu) ; plt.yscale('log'); plt.xscale('log')"
   ]
  },
  {
   "cell_type": "markdown",
   "metadata": {},
   "source": [
    "## Ecriture des fichiers cloudy"
   ]
  },
  {
   "cell_type": "markdown",
   "metadata": {},
   "source": [
    "### Exemple de fichier cloudy : \n",
    "```\n",
    "print off\n",
    "abundances GASS10\n",
    "hden -4.66220468659738\n",
    "element abundance helium -1.103\n",
    "metals -0.9514740954897992 log\n",
    "element limit off -5.951474095489799\n",
    "table SED \"sedCloudy_grp0.sed\"\n",
    "intensity linear total 1.3712477367263086e-06\n",
    "table SED \"sedCloudy_grp1.sed\"\n",
    "intensity linear total 4.4032852441277765e-07\n",
    "table SED \"sedCloudy_grp2.sed\"\n",
    "intensity linear total 2.8463214417601707e-07\n",
    "table SED \"sedCloudy_grp3.sed\"\n",
    "intensity linear total 4.882550068345575e-10\n",
    "CMB z=3\n",
    "const temp 6.109781217359563\n",
    "sphere\n",
    "iterate to convergence\n",
    "stop zone 1\n",
    "radius 30\n",
    "no molecules\n",
    "no H2 molecule\n",
    "no induced processes\n",
    "save last ionization means file = \".ionavr\"\n",
    "save lines, emissivity, emergent, last, \".lines\"\n",
    "H  1 1215.67A\n",
    "H  1 4861.33A\n",
    "H  1 6562.81A\n",
    "N  5 1238.82A\n",
    "N  5 1242.80A\n",
    "C  3 1908.73A\n",
    "C  4 1548.19A\n",
    "C  4 1550.78A\n",
    "He 2 1640.43A\n",
    "O  2 3726.03A\n",
    "O  2 3728.81A\n",
    "O  3 1666.15A\n",
    "O  3 4958.91A\n",
    "O  3 5006.84A\n",
    "Ne 3 3868.76A\n",
    "S  2 6716.44A\n",
    "S  2 6730.82A\n",
    "end of lines\n",
    "stop temperature off\n",
    "set dr 0\n",
    "```"
   ]
  },
  {
   "cell_type": "code",
   "execution_count": 19,
   "metadata": {},
   "outputs": [],
   "source": [
    "class Line(object):\n",
    "    def __init__(self,e,i,w):\n",
    "        self.element    = e\n",
    "        self.ion_state  = i\n",
    "        self.wavelength = w\n",
    "    def cloudyString(self):\n",
    "        return \"%s %i %.2fA\"%(self.element,self.ion_state,self.wavelength)"
   ]
  },
  {
   "cell_type": "code",
   "execution_count": 31,
   "metadata": {},
   "outputs": [
    {
     "name": "stdout",
     "output_type": "stream",
     "text": [
      "['H', 'N', 'C', 'He', 'O', 'Ne', 'S', 'Al', 'Si']\n",
      "H 1 1215.67A\n",
      "H 1 4101.73A\n",
      "H 1 4340.46A\n",
      "H 1 4861.33A\n",
      "H 1 6562.81A\n",
      "N 2 6548.05A\n",
      "N 2 6583.45A\n",
      "N 4 1483.32A\n",
      "N 4 1486.50A\n",
      "N 5 1238.82A\n",
      "N 5 1242.80A\n",
      "C 2 1580000.00A\n",
      "C 3 1908.73A\n",
      "C 3 1906.68A\n",
      "C 4 1548.19A\n",
      "C 4 1550.78A\n",
      "He 2 1640.43A\n",
      "O 1 1302.17A\n",
      "O 1 1304.86A\n",
      "O 1 1306.03A\n",
      "O 2 3726.03A\n",
      "O 2 3728.81A\n",
      "O 3 1660.81A\n",
      "O 3 1666.15A\n",
      "O 3 4958.91A\n",
      "O 3 5006.84A\n",
      "Ne 3 3868.76A\n",
      "S 2 6716.44A\n",
      "S 2 6730.82A\n",
      "Al 2 1670.79A\n",
      "Si 2 1260.42A\n",
      "Si 2 1264.74A\n",
      "Si 2 1265.00A\n",
      "Si 2 1304.37A\n",
      "Si 2 1309.46A\n",
      "Si 2 1526.71A\n",
      "Si 2 1533.45A\n",
      "Si 3 1878.55A\n",
      "Si 3 1882.71A\n",
      "Si 3 1892.03A\n"
     ]
    }
   ],
   "source": [
    "# list of interesting lines \n",
    "lineList = [Line(\"H\", 1, 1215.67),  # Lyman-alpha\n",
    "            Line(\"H\", 1, 4101.73),  # Hdelta\n",
    "            Line(\"H\", 1, 4340.46),  # Hgamma\n",
    "            Line(\"H\", 1, 4861.33),  # Hbeta\n",
    "            Line(\"H\", 1, 6562.81),  # Halpha\n",
    "    \n",
    "            Line(\"N\", 2, 6548.05), \n",
    "            Line(\"N\", 2, 6583.45),\n",
    "            Line(\"N\", 4, 1483.32),\n",
    "            Line(\"N\", 4, 1486.50),\n",
    "            Line(\"N\", 5, 1238.82),\n",
    "            Line(\"N\", 5, 1242.80),\n",
    "\n",
    "            Line(\"C\", 2, 1580000.),\n",
    "            Line(\"C\", 3, 1908.73),\n",
    "            Line(\"C\", 3, 1906.683),\n",
    "            Line(\"C\", 4, 1548.19),\n",
    "            Line(\"C\", 4, 1550.78),\n",
    "\n",
    "            Line(\"He\",2, 1640.43),\n",
    "\n",
    "            Line(\"O\", 1, 1302.17),\n",
    "            Line(\"O\", 1, 1304.86),\n",
    "            Line(\"O\", 1, 1306.03),\n",
    "            Line(\"O\", 2, 3726.03),\n",
    "            Line(\"O\", 2, 3728.81),\n",
    "            Line(\"O\", 3, 1660.81),\n",
    "            Line(\"O\", 3, 1666.15),\n",
    "            Line(\"O\", 3, 4958.91),\n",
    "            Line(\"O\", 3, 5006.84),\n",
    "\n",
    "            Line(\"Ne\",3, 3868.76),\n",
    "\n",
    "            Line(\"S\", 2, 6716.44),\n",
    "            Line(\"S\", 2, 6730.82),\n",
    "\n",
    "            Line(\"Al\", 2, 1670.79),\n",
    "\n",
    "            Line(\"Si\", 2, 1260.42),\n",
    "            Line(\"Si\", 2, 1264.74),\n",
    "            Line(\"Si\", 2, 1265.00),\n",
    "            Line(\"Si\", 2, 1304.37),\n",
    "            Line(\"Si\", 2, 1309.46),\n",
    "            Line(\"Si\", 2, 1526.71),\n",
    "            Line(\"Si\", 2, 1533.45),\n",
    "            Line(\"Si\", 3, 1878.55),\n",
    "            Line(\"Si\", 3, 1882.71),\n",
    "            Line(\"Si\", 3, 1892.03),\n",
    "           ]\n",
    "\n",
    "# construct list of elements from list of lines \n",
    "eltList = []\n",
    "for l in lineList: \n",
    "    if l.element not in eltList: \n",
    "        eltList.append(l.element)\n",
    "print(eltList)\n",
    "\n",
    "for l in lineList: \n",
    "    print(l.cloudyString())"
   ]
  },
  {
   "cell_type": "code",
   "execution_count": 49,
   "metadata": {},
   "outputs": [],
   "source": [
    "def writeSetup(nH, Z, intensities, temperature, number, directory='./'):     #number is the ID of the cell\n",
    "    CloudyString = ''\n",
    "    CloudyString = CloudyString + 'print off \\n'\n",
    "    CloudyString = CloudyString + 'abundances GASS10 \\n'\n",
    "    CloudyString = CloudyString + 'hden ' + str(np.log10(nH)) + '\\n'\n",
    "    CloudyString = CloudyString + 'element abundance helium -1.103 \\n'\n",
    "    CloudyString = CloudyString + 'metals ' + str(np.log10(Z/0.0134)) + ' log \\n' # The number is the log of the scale factor by which the abundances of all metals are multiplied\n",
    "    CloudyString = CloudyString + 'element limit off '  + str(-5.58 + np.log10(Z/0.0134)) +' \\n' # So that only  Carbon Nitrogen  Oxygen  Neon  Magnesium  Silicon  Sulphur  Iron       \n",
    "    for i in range(len(intensities)):\n",
    "        CloudyString = CloudyString + 'table SED \"sedCloudy_grp'+str(i)+'.sed\" \\n'\n",
    "        CloudyString = CloudyString + 'intensity linear total ' + str(intensities[i]) + ' \\n'\n",
    "    CloudyString = CloudyString + 'CMB z='+str(hcat.info['redshift'])+' \\n' \n",
    "    CloudyString = CloudyString + 'const temp ' + str(np.log10(temperature)) + '\\n'\n",
    "    CloudyString = CloudyString + 'sphere \\n'\n",
    "    CloudyString = CloudyString + 'iterate to convergence \\n'\n",
    "    CloudyString = CloudyString + 'stop zone 1 \\n'\n",
    "    CloudyString = CloudyString + 'radius 30 \\n'\n",
    "    CloudyString = CloudyString + 'no molecules \\n'\n",
    "    CloudyString = CloudyString + 'no H2 molecule \\n'\n",
    "    CloudyString = CloudyString + 'no induced processes \\n'\n",
    "    CloudyString = CloudyString + 'save last ionization means file = \".ionavr\" \\n'\n",
    "    CloudyString = CloudyString + 'save lines, emissivity, emergent, last, \".lines\" \\n'\n",
    "    for l in lineList:\n",
    "        CloudyString = CloudyString + '%s \\n'%(l.cloudyString())\n",
    "    CloudyString = CloudyString + 'end of lines \\n'\n",
    "    CloudyString = CloudyString + 'stop temperature off \\n'\n",
    "    CloudyString = CloudyString + 'set dr 0 \\n'\n",
    "    \n",
    "    import os\n",
    "    if not os.path.exists(directory):\n",
    "        os.makedirs(directory)\n",
    "    CloudyFile = open(directory+'input' + format(number,\"07\") + '.in', 'w')\n",
    "    CloudyFile.write(CloudyString)\n",
    "    CloudyFile.close()\n",
    "\n"
   ]
  },
  {
   "cell_type": "code",
   "execution_count": 60,
   "metadata": {},
   "outputs": [
    {
     "name": "stdout",
     "output_type": "stream",
     "text": [
      "9.006051810556314e+31\n"
     ]
    }
   ],
   "source": [
    "#MINE (VALENTIN), FOR TEST\n",
    "j=0\n",
    "for i in range(1000000):\n",
    "    if((nH[i]>1) & (TK[i]<50000)):\n",
    "        print(Np1[i])\n",
    "        intensities = [J0[i],J1[i],J2[i],J3[i]]\n",
    "#         print(nH[i],Z[i])\n",
    "        writeSetup(nH[i],metallicity[i],intensities,TK[i],j,'runs/')\n",
    "        j=j+1\n",
    "    if(j==1):\n",
    "        break"
   ]
  },
  {
   "cell_type": "code",
   "execution_count": 22,
   "metadata": {},
   "outputs": [],
   "source": [
    "# define a class to count runs in nH,T bins so we can control the sampling and measure averages...  \n",
    "class counts(object):\n",
    "    def __init__(self,nH,nbins_nH,TK,nbins_TK):\n",
    "        self.lnHmin = np.log10(nH.min())\n",
    "        self.lnHmax = np.log10(nH.max())\n",
    "        self.nbins_nH = nbins_nH\n",
    "        \n",
    "        self.lTmin = np.log10(TK.min())\n",
    "        self.lTmax = np.log10(TK.max())\n",
    "        self.nbins_TK = nbins_TK\n",
    "\n",
    "        self.c = np.zeros((nbins_nH,nbins_TK))\n",
    "        self.mean_xHI_ratio = np.zeros((nbins_nH,nbins_TK))\n",
    "        self.xHI_cloudy = np.zeros((nbins_nH,nbins_TK))\n",
    "        self.xHI_ramses = np.zeros((nbins_nH,nbins_TK))\n",
    "        self.nHI = np.zeros((nbins_nH,nbins_TK))\n",
    "        self.nH  = np.zeros((nbins_nH,nbins_TK))\n",
    "        \n",
    "    def increment_count(self,nH,TK):\n",
    "        inh,iTK = self.__get_ij__(nH,TK)\n",
    "        self.c[inh,iTK] = self.c[inh,iTK] + 1\n",
    "    \n",
    "    def increment_densities(self,nH,TK,nHI):\n",
    "        inh,iTK = self.__get_ij__(nH,TK)\n",
    "        n = self.c[inh,iTK]\n",
    "        if n > 1:\n",
    "            self.nHI[inh,iTK] = (self.nHI[inh,iTK]*(n-1)+nHI)/n\n",
    "            self.nH[inh,iTK]  = (self.nH[inh,iTK] *(n-1)+nH)/n\n",
    "        else:\n",
    "            self.nHI[inh,iTK] = nHI\n",
    "            self.nH[inh,iTK] = nH\n",
    "\n",
    "    def increment_xHI(self,nH,TK,xHI_cloudy=None,xHI_ramses=None):\n",
    "        inh,iTK = self.__get_ij__(nH,TK)\n",
    "        n = self.c[inh,iTK]\n",
    "        if n > 1:\n",
    "            if xHI_cloudy is not None:\n",
    "                self.xHI_cloudy[inh,iTK] = (self.xHI_cloudy[inh,iTK]*(n-1)+xHI_cloudy)/n\n",
    "            if xHI_ramses is not None:\n",
    "                self.xHI_ramses[inh,iTK] = (self.xHI_ramses[inh,iTK]*(n-1)+xHI_ramses)/n\n",
    "            #self.mean_xHI_ratio[inh,iTK] = (self.mean_xHI_ratio[inh,iTK]*(n-1) + xHI_cloudy / xHI)/n\n",
    "        else:\n",
    "            if xHI_cloudy is not None:\n",
    "                self.xHI_cloudy[inh,iTK] = xHI_cloudy\n",
    "            if xHI_ramses is not None:\n",
    "                self.xHI_ramses[inh,iTK] = xHI_ramses\n",
    "            #self.mean_xHI_ratio[inh,iTK] = xHI_cloudy / xHI\n",
    "        \n",
    "    def get_count(self,nH,TK):\n",
    "        inh,iTK = self.__get_ij__(nH,TK)\n",
    "        return self.c[inh,iTK]\n",
    "    \n",
    "    def plot_count(self,cb=True):\n",
    "        plt.imshow(self.c.T,norm=LogNorm(),origin='lower',\n",
    "                   extent=(self.lnHmin,self.lnHmax,self.lTmin,self.lTmax))\n",
    "        plt.xlabel(r'$n_H \\ [{\\rm cm/s}]$',fontsize=15)\n",
    "        plt.ylabel(r'$T \\ [K]$',fontsize=15)\n",
    "        if cb:\n",
    "            plt.colorbar()\n",
    "    \n",
    "    def plot_xHI_ratio(self,cb=True):\n",
    "        plt.imshow(self.mean_xHI_ratio.T,origin='lower',extent=(self.lnHmin,self.lnHmax,self.lTmin,self.lTmax),\n",
    "                   norm=LogNorm(),vmin=1e-2,vmax=1e2,cmap=plt.cm.get_cmap('jet', 40))#'Paired')\n",
    "        plt.xlabel(r'$n_H \\ [{\\rm cm/s}]$',fontsize=15)\n",
    "        plt.ylabel(r'$T \\ [K]$',fontsize=15)\n",
    "        if cb:\n",
    "            cbar = plt.colorbar()\n",
    "            cbar.set_label(r'$x_{\\rm HI}({\\rm cloudy}) / x_{\\rm HI}({\\rm ramses})$',fontsize=15)\n",
    "\n",
    "    def plot_xHI_new(self):\n",
    "        xHI = self.nHI / self.nH\n",
    "        plt.imshow(xHI.T,origin='lower',norm=LogNorm(),\n",
    "                   extent=(self.lnHmin,self.lnHmax,self.lTmin,self.lTmax))\n",
    "        plt.xlabel(r'$n_H \\ [{\\rm cm/s}]$',fontsize=15)\n",
    "        plt.ylabel(r'$T \\ [K]$',fontsize=15)\n",
    "        cbar = plt.colorbar()\n",
    "        cbar.set_label(r'$x_{\\rm HI}({\\rm ramses})$',fontsize=15)\n",
    "            \n",
    "    def plot_xHI(self,cb=True,model='cloudy'):\n",
    "        if model == 'cloudy':\n",
    "            xHI = self.xHI_cloudy\n",
    "        elif model == 'ramses':\n",
    "            xHI = self.xHI_ramses\n",
    "        else:\n",
    "            die\n",
    "            \n",
    "        plt.imshow(xHI.T,origin='lower',extent=(self.lnHmin,self.lnHmax,self.lTmin,self.lTmax),\n",
    "                   norm=LogNorm(),vmin=1e-6,vmax=1e0,cmap=plt.cm.get_cmap('jet', 30))#'Paired')\n",
    "        plt.xlabel(r'$n_H \\ [{\\rm cm/s}]$',fontsize=15)\n",
    "        plt.ylabel(r'$T \\ [K]$',fontsize=15)\n",
    "        if cb:\n",
    "            cbar = plt.colorbar()\n",
    "            cbar.set_label(r'$x_{\\rm HI}({\\rm %s})$'%model,fontsize=15)\n",
    "    \n",
    "    def __get_ij__(self,nH,TK):\n",
    "        lnh = np.log10(nH)\n",
    "        inh = int((lnh - self.lnHmin)/(self.lnHmax-self.lnHmin)*self.nbins_nH)\n",
    "        lTK = np.log10(TK)\n",
    "        iTK = int((lTK - self.lTmin)/(self.lTmax-self.lTmin)*self.nbins_TK)\n",
    "        if iTK < 0: \n",
    "            iTK = 0\n",
    "        elif iTK >= self.nbins_TK:\n",
    "            iTK = self.nbins_TK-1\n",
    "        if inh < 0: \n",
    "            inh = 0\n",
    "        elif inh >= self.nbins_nH:\n",
    "            inh = self.nbins_nH-1\n",
    "        return inh,iTK"
   ]
  },
  {
   "cell_type": "code",
   "execution_count": null,
   "metadata": {},
   "outputs": [],
   "source": [
    "# verification de la classe \n",
    "if False: \n",
    "    cellCount = counts(nH,100,TK,100)\n",
    "    for cnH, cT, cnHI in zip(nH,TK,nHI):\n",
    "        if cellCount.get_count(cnH,cT) < 200:\n",
    "            cellCount.increment_count(cnH,cT)\n",
    "            cellCount.increment_densities(cnH,cT,cnHI)\n",
    "            cellCount.increment_xHI(cnH,cT,xHI_ramses = cnHI/cnH)\n",
    "    cellCount.plot_count()\n",
    "    plt.show()\n",
    "    cellCount.plot_xHI_new()\n",
    "    plt.show()\n",
    "    cellCount.plot_xHI(model='ramses')\n",
    "    plt.show()"
   ]
  },
  {
   "cell_type": "code",
   "execution_count": 24,
   "metadata": {},
   "outputs": [],
   "source": [
    "MaxRunsPerDir = 5000"
   ]
  },
  {
   "cell_type": "code",
   "execution_count": null,
   "metadata": {
    "scrolled": false
   },
   "outputs": [],
   "source": [
    "# pour chaque cellule, on prepare un run CLOUDY \n",
    "i = 0\n",
    "cellCount = counts(nH,100,TK,100)\n",
    "f = open('runs/a_lancer','w')\n",
    "for cnH, cZ, cT, cJ0, cJ1, cJ2, cJ3 in zip(nH,metallicity,TK,J0,J1,J2,J3):\n",
    "    i = i + 1\n",
    "    condition = (cellCount.get_count(cnH,cT) <= 50)  # no more than some nb of runs per bin\n",
    "    ionFile = 'runs/%i/input%7.7i.ionavr'%(i/MaxRunsPerDir,i)\n",
    "    if condition:\n",
    "        cellCount.increment_count(cnH,cT)\n",
    "        if not os.path.exists(ionFile):\n",
    "            writeSetup(cnH, cZ, np.array((cJ0,cJ1,cJ2,cJ3)), cT, i, directory='runs/%i/'%(i/MaxRunsPerDir))\n",
    "            #cmd = \"cd runs; /Users/blaizot/Documents/Astro/Dev/c17.01/source/cloudy.exe input%7.7i.in\"%(i)\n",
    "            cmd = \"cd %i; /home/blaizot/c17.01/source/cloudy.exe input%7.7i.in\"%(i/MaxRunsPerDir,i)\n",
    "            f.write(\"%s \\n\"%(cmd))\n",
    "            #os.system(cmd)\n",
    "f.close()    \n",
    "\n"
   ]
  },
  {
   "cell_type": "code",
   "execution_count": null,
   "metadata": {},
   "outputs": [],
   "source": [
    "# script pour lancer les jobs sur le CCF. \n",
    "f = open('runs/pbscript','w')\n",
    "f.write(\"#PBS -S /bin/bash  \\n\")\n",
    "f.write(\"#PBS -N cloudy \\n\")\n",
    "f.write(\"#PBS -j oe  \\n\")\n",
    "f.write(\"#PBS -l select=20:ncpus=16:mpiprocs=16  \\n\")\n",
    "f.write(\"#PBS -l place=scatter:excl  \\n\")\n",
    "f.write(\"#PBS -l walltime=24:00:00  \\n\")\n",
    "f.write(\"#PBS -q longq  \\n\")\n",
    "f.write(\"cd $PBS_O_WORKDIR  \\n\")\n",
    "f.write(\"source /usr/share/modules/init/bash  \\n\")\n",
    "f.write(\"module avail  \\n\")\n",
    "f.write(\"module load intel-icc-14/14.0.3.174  \\n\")\n",
    "f.write(\"module load intel-ifc-14/14.0.3.174  \\n\")\n",
    "f.write(\"module load intel-mkl-11/11.1.3  \\n\")\n",
    "f.write(\"module load mpt/2.10  \\n\")\n",
    "f.write(\"module list  \\n\")\n",
    "f.write(\"set -x  \\n\")\n",
    "f.write(\"mpiexec_mpt -np 320 dplace -s1 -c0-15 ~/rats-svn/MultiProcStarter/mpp_starter a_lancer > a_lancer.log \\n\")\n",
    "f.close()"
   ]
  },
  {
   "cell_type": "code",
   "execution_count": 25,
   "metadata": {
    "scrolled": false
   },
   "outputs": [],
   "source": [
    "# compilation des résultats dans quelques fichiers \n",
    "# ------------------------------------------------\n",
    "# - input.txt file contains columns with nH, Z, T, J1, J2, J3, J4, cell volume\n",
    "# - EmLines.txt : emissivities of the lines (see lineList above)\n",
    "# - HIfrac.txt : ... \n",
    "\n",
    "inp = open('input.txt','w')\n",
    "out_xHI = open('HIfrac.txt','w')\n",
    "out_xHI.write(\"# xHI \\n\")\n",
    "out_lines = open('EmLines.txt','w')\n",
    "LineNames = '# '\n",
    "for l in lineList:\n",
    "    LineNames = LineNames + \" [\" + l.cloudyString()+\"] \"\n",
    "out_lines.write(LineNames+\"\\n\")\n",
    "\n",
    "i = 0\n",
    "for cnH, cZ, cT, cJ0, cJ1, cJ2, cJ3, cV in zip(nH,metallicity,TK,J0,J1,J2,J3,cell_volume_cgs):\n",
    "    i = i + 1 \n",
    "    ionFile = 'runs/%i/input%7.7i.ionavr'%(i/MaxRunsPerDir,i)\n",
    "    if os.path.exists(ionFile):\n",
    "        # input parameters of completed runs \n",
    "        inp.write(\"%.5e %.5e %.5e %.5e %.5e %.5e %.5e %.5e\\n\"%(cnH, cZ, cT, cJ0, cJ1, cJ2, cJ3, cV))\n",
    "        \n",
    "        f = open(ionFile,'r')\n",
    "        lines = f.readlines()\n",
    "        for l in lines:\n",
    "            if 'Hydrogen' in l:\n",
    "                xHI_Cloudy = float(l[11:18])\n",
    "                break\n",
    "        f.close()\n",
    "        out_xHI.write(\"%.5e \\n\"%(10.**xHI_Cloudy))\n",
    "\n",
    "        # get line emissivities\n",
    "        lineFile = 'runs/%i/input%7.7i.lines'%(i/MaxRunsPerDir,i)\n",
    "        f = open(lineFile,'r');l = (f.readlines())[1]; f.close() # get 2nd line\n",
    "        out_lines.write(l[12:-1]+\"\\n\")  # remove useless first column \n",
    "    else:\n",
    "        inputfile = 'runs/%i/input%7.7i.in'%(i/MaxRunsPerDir,i)\n",
    "        if os.path.exists(inputfile):\n",
    "            print(inputfile)\n",
    "            break\n",
    "inp.close()\n",
    "out_xHI.close()\n",
    "out_lines.close()"
   ]
  },
  {
   "cell_type": "code",
   "execution_count": null,
   "metadata": {},
   "outputs": [],
   "source": [
    "# analyse des résultats pour xHI \n",
    "cellCount = counts(nH,100,TK,100)\n",
    "for cnH, cT, cnHI in zip(nH,TK,nHI):\n",
    "    i = i + 1\n",
    "    cellCount.increment_count(cnH,cT)\n",
    "    cellCount.increment_xHI(cnH,cT,xHI_ramses = cnHI/cnH)\n",
    "\n",
    "plt.figure(figsize=(10,6))\n",
    "cellCount.plot_xHI(model='ramses')\n",
    "plt.show()\n",
    "print('nombre de cellules calculees : %i'%(np.sum(cellCount.c)))"
   ]
  },
  {
   "cell_type": "code",
   "execution_count": null,
   "metadata": {},
   "outputs": [],
   "source": [
    "cloudy_input = np.genfromtxt('input.txt')  # input.txt file contains columns with nH, Z, T, J1, J2, J3, J4\n",
    "CloudyxHI = np.genfromtxt('HIfrac.txt', unpack=True, usecols=0) \n",
    "cellCount = counts(nH,100,TK,100)\n",
    "for i in range(cloudy_input.shape[0]):\n",
    "    cnH = cloudy_input[i,0]\n",
    "    cT  = cloudy_input[i,2]\n",
    "    cellCount.increment_count(cnH,cT)\n",
    "    cellCount.increment_xHI(cnH,cT,xHI_cloudy=CloudyxHI[i])\n",
    "plt.figure(figsize=(10,6))\n",
    "cellCount.plot_xHI(model='cloudy')\n",
    "plt.show()"
   ]
  },
  {
   "cell_type": "code",
   "execution_count": null,
   "metadata": {},
   "outputs": [],
   "source": [
    "# analyse de l'emission Ha\n",
    "cloudy_input = np.genfromtxt('input.txt')  # input.txt file contains columns with nH, Z, T, J1, J2, J3, J4, cell_volume\n",
    "cellCount = counts(cloudy_input[:,0],100,cloudy_input[:,2],100)\n",
    "HaEmiss = np.genfromtxt('EmLines.txt', unpack=True, usecols=5) \n",
    "#HaEmiss = np.power(10.,HaEmiss)\n",
    "for i in range(len(HaEmiss)):\n",
    "    cnH = cloudy_input[i,0]\n",
    "    cT  = cloudy_input[i,2]\n",
    "    cHa = HaEmiss[i] # erg/s/cm3  ## * cloudy_input[i,7]  # erg/s \n",
    "    cellCount.increment_count(cnH,cT)\n",
    "    cellCount.increment_densities(cnH,cT,cHa)\n",
    "print('nombre de cellules calculees : %i'%(np.sum(cellCount.c)))"
   ]
  },
  {
   "cell_type": "code",
   "execution_count": null,
   "metadata": {},
   "outputs": [],
   "source": [
    "plt.figure(figsize=(13,7))\n",
    "cs = plt.contour(cellCount.c.T,[1,5,20],origin='lower',\n",
    "                extent=(cellCount.lnHmin,cellCount.lnHmax,cellCount.lTmin,cellCount.lTmax),\n",
    "                colors=['k','k','k'],linestyles=['-','-','-'],linewidths=1)\n",
    "plt.imshow(cellCount.nHI.T,origin='lower',\n",
    "           extent=(cellCount.lnHmin,cellCount.lnHmax,cellCount.lTmin,cellCount.lTmax),\n",
    "           norm=LogNorm(),cmap='Blues',vmax=1e-19,vmin=1e-26)\n",
    "\n",
    "plt.colorbar()"
   ]
  },
  {
   "cell_type": "code",
   "execution_count": null,
   "metadata": {
    "scrolled": false
   },
   "outputs": [],
   "source": [
    "cloudy_input = np.genfromtxt('input.txt')  # input.txt file contains columns with nH, Z, T, J1, J2, J3, J4, cell_volume\n",
    "cellCount = counts(cloudy_input[:,0],100,cloudy_input[:,2],100)\n",
    "plt.figure(figsize=(20,20))\n",
    "# plot emissivities for each element \n",
    "for k,elt in enumerate(eltList):\n",
    "    j = k % 9 + 1\n",
    "    plt.subplot(3,3,j)\n",
    "    for i,l in enumerate(lineList):    \n",
    "        if elt == l.element:\n",
    "            Emiss = np.genfromtxt('EmLines.txt', unpack=True, usecols=i)\n",
    "            h = plt.hist(np.log10(cloudy_input[:,2]),weights=Emiss,bins=100,label=l.cloudyString(),\n",
    "                    histtype='step',alpha=0.7,linewidth=2)\n",
    "    plt.yscale('log'); plt.ylim(1e-27,1e-17)\n",
    "    plt.xlabel(r'${\\rm Log}_{10}(T)\\ [K]$')\n",
    "    blah = plt.ylabel(r'$\\epsilon\\ [{\\rm erg \\ cm^{-3}\\ s^{-1}}]$')\n",
    "    plt.legend()\n",
    "    "
   ]
  },
  {
   "cell_type": "code",
   "execution_count": null,
   "metadata": {},
   "outputs": [],
   "source": [
    "# analyse de l'emission Ha\n",
    "cloudy_input = np.genfromtxt('input.txt',dtype=np.float64)  # input.txt file contains columns with nH, Z, T, J1, J2, J3, J4\n",
    "emissivities = np.genfromtxt('EmLines.txt',dtype=np.float64)\n"
   ]
  },
  {
   "cell_type": "code",
   "execution_count": null,
   "metadata": {
    "scrolled": true
   },
   "outputs": [],
   "source": [
    "x = np.log10(cloudy_input[:,0]) # nH\n",
    "y = np.log10(cloudy_input[:,2]) # T\n",
    "xmin,xmax,ymin,ymax = x.min(),x.max(),y.min(),y.max()\n",
    "nbins_x,nbins_y = 120,120\n",
    "# outer density contour \n",
    "hcont,xe,ye = np.histogram2d(x,y,bins=(nbins_x,nbins_y),range=[[xmin,xmax],[ymin,ymax]])\n",
    "for i,l in enumerate(lineList):    \n",
    "    if i > 100:\n",
    "        break\n",
    "    Emiss = emissivities[:,i]\n",
    "    h,xe,ye = np.histogram2d(x,y,bins=(nbins_x,nbins_y),weights=Emiss,\n",
    "                             range=[[xmin,xmax],[ymin,ymax]])\n",
    "    plt.figure(figsize=(14,6))\n",
    "    ax = plt.subplot(111)\n",
    "    im = ax.imshow(h.T,extent=(xmin,xmax,ymin,ymax),norm=LogNorm(),origin='lower',vmax=1e-17,vmin=1e-25,\n",
    "              cmap='gist_gray_r')\n",
    "    cs = ax.contour(h.T,[1e-21,1e-20,1e-19],colors=['yellow','orange','red'],origin='lower',\n",
    "              extent=(xmin,xmax,ymin,ymax))\n",
    "    ax.contour(hcont.T,[0.1],colors=['deepskyblue'],origin='lower',extent=(xmin,xmax,ymin,ymax))\n",
    "    plt.title(l.cloudyString())\n",
    "    cbar = plt.colorbar(im)\n",
    "    cbar.ax.set_ylabel('erg/s/cm3',fontsize=15)\n",
    "    cbar.add_lines(cs)\n",
    "    ax.set_xlabel(r'$n_{\\rm H} \\ [cm^{-3}]$',fontsize=15)\n",
    "    ax.set_ylabel(r'$T \\ [K]$',fontsize=15)\n",
    "\n"
   ]
  },
  {
   "cell_type": "code",
   "execution_count": null,
   "metadata": {},
   "outputs": [],
   "source": [
    "print(hcont.min(),hcont.max())"
   ]
  },
  {
   "cell_type": "markdown",
   "metadata": {},
   "source": [
    "## La partie machine learning ... \n",
    "\n"
   ]
  },
  {
   "cell_type": "code",
   "execution_count": 26,
   "metadata": {},
   "outputs": [],
   "source": [
    "from sklearn.ensemble import RandomForestRegressor\n",
    "from sklearn.preprocessing import StandardScaler\n",
    "from sklearn.model_selection import train_test_split,GridSearchCV"
   ]
  },
  {
   "cell_type": "code",
   "execution_count": 27,
   "metadata": {},
   "outputs": [
    {
     "data": {
      "text/plain": [
       "RandomForestRegressor(bootstrap=True, criterion='mse', max_depth=None,\n",
       "           max_features='auto', max_leaf_nodes=None,\n",
       "           min_impurity_decrease=0.0, min_impurity_split=None,\n",
       "           min_samples_leaf=1, min_samples_split=5,\n",
       "           min_weight_fraction_leaf=0.0, n_estimators=20, n_jobs=4,\n",
       "           oob_score=False, random_state=31, verbose=0, warm_start=False)"
      ]
     },
     "execution_count": 27,
     "metadata": {},
     "output_type": "execute_result"
    }
   ],
   "source": [
    "cloudy_input = np.genfromtxt('input.txt',dtype=np.float64)  # input.txt file contains columns with nH, Z, T, J1, J2, J3, J4\n",
    "cloudy_input = np.log10(cloudy_input)\n",
    "emissivities = np.genfromtxt('EmLines.txt',dtype=np.float64)\n",
    "emissivities_log = np.log10(emissivities+1e-50)\n",
    "# define sub-sample for training...\n",
    "X_train, X_test, y_train, y_test = train_test_split(cloudy_input, emissivities_log, test_size=0.2, \n",
    "                                                    random_state=42,shuffle=True)\n",
    "# the scaling below does not seem to make a difference ... [it actually does allow the code to run... ]\n",
    "scaler = StandardScaler()\n",
    "scaler.fit(X_train)\n",
    "X_train_std = scaler.transform(X_train)\n",
    "X_test_std  = scaler.transform(X_test)\n",
    "\n",
    "n_estimators=20\n",
    "model = RandomForestRegressor(n_estimators=n_estimators,criterion=\"mse\",max_depth=None,\n",
    "                              min_samples_split=5,random_state=31,n_jobs=4)\n",
    "model.fit(X_train_std, y_train)"
   ]
  },
  {
   "cell_type": "code",
   "execution_count": 28,
   "metadata": {},
   "outputs": [],
   "source": [
    "y_pred = model.predict(X_test_std)"
   ]
  },
  {
   "cell_type": "code",
   "execution_count": null,
   "metadata": {},
   "outputs": [],
   "source": [
    "# plot result of random forest \n",
    "plt.figure(figsize=(20,20))\n",
    "for k,elt in enumerate(eltList):\n",
    "    j = k % 9 + 1\n",
    "    ax = plt.subplot(3,3,j)\n",
    "    nbins_x,nbins_y = 100,100\n",
    "    htot = np.zeros((nbins_x,nbins_y))\n",
    "    for i,l in enumerate(lineList):    \n",
    "        if elt == l.element:\n",
    "            x,y = y_test[:,i],(10**y_test[:,i]-10**y_pred[:,i])/10**y_test[:,i]\n",
    "            #plt.plot(x,y,'.',alpha=0.5,label=l.wavelength)\n",
    "            xmin,xmax=-30,-18\n",
    "            h,xe,ye = np.histogram2d(x,y,bins=(nbins_x,nbins_y),range=[[xmin,xmax],[-1,1]],normed=True)\n",
    "            htot = htot + h\n",
    "    # normalize histogram in columns (i.e. per emissivity bin)\n",
    "    for i in range(nbins_x):\n",
    "        hmax = np.sum(htot[i,:])\n",
    "        htot[i,:] = htot[i,:]/hmax\n",
    "    \n",
    "    cs = plt.contour(htot.T,[5e-4,5e-3,5e-2],extent=(xmin,xmax,-1,1),\n",
    "                colors=['limegreen','deepskyblue','red'],)\n",
    "    plt.xlabel(r'${\\rm Log}_{10}(\\epsilon) [{\\rm erg \\ s^{-1} \\ cm^{-3}}]$',fontsize=15)\n",
    "    plt.ylabel(r'$(\\epsilon-\\hat{\\epsilon})/\\epsilon$',fontsize=15)\n",
    "    plt.title('%s lines'%(elt),fontsize=15)\n",
    "    #plt.legend()\n",
    "    #plt.xscale('log')\n",
    "plt.savefig('ML_lines_n_estim%i_MSS5.png'%(n_estimators))\n"
   ]
  },
  {
   "cell_type": "code",
   "execution_count": 29,
   "metadata": {},
   "outputs": [],
   "source": [
    "def get_percentiles(x,y,xmin=None,xmax=None,nbins=30):\n",
    "    import numpy as np\n",
    "    if xmin is None:\n",
    "        xmin = x.min()\n",
    "    if xmax is None:\n",
    "        xmax = x.max()\n",
    "    xs = np.linspace(xmin,xmax,num=nbins+1)\n",
    "    xmid = 0.5*(xs[0:-1]+xs[1:])\n",
    "    ymid,y99,y1,y75,y25 = np.zeros_like(xmid),np.zeros_like(xmid),\\\n",
    "                np.zeros_like(xmid),np.zeros_like(xmid),np.zeros_like(xmid)\n",
    "    for i in range(nbins):\n",
    "        condition = (x>xs[i]) & (x<xs[i+1])\n",
    "        if condition.any():\n",
    "            y1[i],ymid[i],y99[i],y75[i],y25[i]  = np.percentile(y[condition],[1,50,99,75,25]) \n",
    "    return xmid,ymid,y99,y1,y75,y25\n",
    "    "
   ]
  },
  {
   "cell_type": "code",
   "execution_count": 32,
   "metadata": {},
   "outputs": [],
   "source": [
    "# plot result of random forest for all lines of an element \n",
    "element = \"N\"\n",
    "for i,l in enumerate(lineList):    \n",
    "    if element == l.element:\n",
    "        x,y = y_test[:,i],(y_test[:,i]-y_pred[:,i])\n",
    "        plt.figure(figsize=(10,10))\n",
    "        plt.plot(x,y,'.',label=l.cloudyString(),color='lightgray',alpha=0.4)\n",
    "        xmid,ymid,y99,y1,y75,y25 = get_percentiles(x,y,xmin=-32,xmax=-20,nbins=30)\n",
    "        plt.plot(xmid,ymid,'+',color='blue')\n",
    "        plt.plot(xmid,y99,color='blue',linestyle='--')\n",
    "        plt.plot(xmid,y1,color='blue',linestyle='--')\n",
    "        plt.plot(xmid,y75,color='blue',linestyle='-')\n",
    "        plt.plot(xmid,y25,color='blue',linestyle='-')\n",
    "        plt.xlabel(r'${\\rm Log}_{10}(\\epsilon) [{\\rm erg \\ s^{-1} \\ cm^{-3}}]$',fontsize=15)\n",
    "        plt.ylabel(r'${\\rm Log}_{10}(\\hat{\\epsilon}/\\epsilon)$',fontsize=15)\n",
    "        plt.xlim(-30,-20)\n",
    "        plt.ylim(-1.5,1.5)\n",
    "        plt.axhline(0,color='green',linewidth=0.5,linestyle=':')\n",
    "        plt.axhline(-np.log10(2.),color='red',linewidth=0.5,linestyle=':')\n",
    "        plt.axhline(np.log10(2.),color='red',linewidth=0.5,linestyle=':')\n",
    "        plt.legend()\n",
    "        plt.savefig('ML_%s.pdf'%(l.cloudyString().replace(\" \",\"\")))\n",
    "        plt.clf()\n",
    "        plt.close()\n"
   ]
  },
  {
   "cell_type": "code",
   "execution_count": null,
   "metadata": {},
   "outputs": [],
   "source": [
    "a,b,c,d = get_percentiles(x,y,xmin=-40,xmax=-20,nbins=10)\n",
    "print(b)"
   ]
  },
  {
   "cell_type": "code",
   "execution_count": null,
   "metadata": {},
   "outputs": [],
   "source": [
    "for i in range(10):\n",
    "    print(i)"
   ]
  },
  {
   "cell_type": "code",
   "execution_count": null,
   "metadata": {},
   "outputs": [],
   "source": [
    "condition.any?"
   ]
  },
  {
   "cell_type": "code",
   "execution_count": null,
   "metadata": {},
   "outputs": [],
   "source": []
  }
 ],
 "metadata": {
  "kernelspec": {
   "display_name": "Python 3",
   "language": "python",
   "name": "python3"
  },
  "language_info": {
   "codemirror_mode": {
    "name": "ipython",
    "version": 3
   },
   "file_extension": ".py",
   "mimetype": "text/x-python",
   "name": "python",
   "nbconvert_exporter": "python",
   "pygments_lexer": "ipython3",
   "version": "3.7.1"
  }
 },
 "nbformat": 4,
 "nbformat_minor": 2
}
